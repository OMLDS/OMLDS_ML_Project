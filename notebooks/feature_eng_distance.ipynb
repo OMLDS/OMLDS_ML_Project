{
  "cells": [
    {
      "cell_type": "markdown",
      "metadata": {
        "id": "7zv90ALyqZhu"
      },
      "source": [
        "### OMLDS End-to-End Machine Learning Project\n",
        "\n",
        "##### Kaggle Credit Fraud Detection Dataset\n",
        "##### Dataset Source: https://www.kaggle.com/datasets/kartik2112/fraud-detection\n",
        "\n",
        "##### Date: 10/19/2023"
      ]
    },
    {
      "cell_type": "markdown",
      "metadata": {
        "id": "Eqzcv_8jrRty"
      },
      "source": [
        "#### Objective\n",
        "\n",
        "The main objective in this notebook is creating an engineered feature, distance, based on the provided location data of the buyer and merchant.\n"
      ]
    },
    {
      "cell_type": "markdown",
      "metadata": {
        "id": "cDyB1BymsOHu"
      },
      "source": [
        "#### Feature Engineering steps:\n",
        "\n",
        "1.  Prior to feature engineering it is assumed you've gotten familier with the \n",
        "    data via EDA (exploratory data anaylsis)\n",
        "\n",
        "2.  With latitude and longitude for buyer and merchant in the dataset, it was \n",
        "    reasonable to create a distance calculation.\n",
        "\n",
        "3.  While creating this new feature, we evaluate it again with EDA techniques to\n",
        "    determine if it is a usefule feature and if it leads us to additional \n",
        "    engineered features or different methods of calculation.\n",
        "\n"
      ]
    },
    {
      "cell_type": "code",
      "execution_count": 1,
      "metadata": {
        "id": "mxpYtdFpqXVs"
      },
      "outputs": [],
      "source": [
        "# import libraries\n",
        "import pandas as pd\n",
        "import numpy as np\n",
        "import matplotlib.pyplot as plt\n",
        "import seaborn as sns\n",
        "import warnings\n",
        "import datetime\n",
        "import os \n",
        "from haversine import haversine, Unit\n",
        "from dython.nominal import (identify_nominal_columns, associations)\n",
        "\n",
        "warnings.filterwarnings('ignore')\n",
        "\n",
        "plt.rcParams['figure.figsize'] = (20, 16)"
      ]
    },
    {
      "cell_type": "markdown",
      "metadata": {},
      "source": [
        "### Read in training dataset\n",
        "\n",
        "Use the next two blocks, if you are using your personal google drive use this code.  You need your google credentials."
      ]
    },
    {
      "cell_type": "code",
      "execution_count": null,
      "metadata": {
        "colab": {
          "base_uri": "https://localhost:8080/"
        },
        "id": "Divuhklwioz1",
        "outputId": "883a8684-ddba-4be5-d254-2813a3bd1a53"
      },
      "outputs": [],
      "source": [
        "# from google.colab import drive\n",
        "# drive.mount('/content/drive')"
      ]
    },
    {
      "cell_type": "code",
      "execution_count": null,
      "metadata": {},
      "outputs": [],
      "source": [
        "# df_train = pd.read_csv(\n",
        "#     '/content/drive/MyDrive/kaggle_credit_fraud_detection/fraudTrain.csv', \n",
        "#     index_col=0, \n",
        "#     parse_dates = [\"trans_date_trans_time\", \"dob\"]\n",
        "# )"
      ]
    },
    {
      "cell_type": "markdown",
      "metadata": {},
      "source": [
        "Or use local copy stored in ../data folder"
      ]
    },
    {
      "cell_type": "code",
      "execution_count": 2,
      "metadata": {
        "colab": {
          "base_uri": "https://localhost:8080/",
          "height": 860
        },
        "id": "qY5qvuDsuDBX",
        "outputId": "5769281b-c03a-40f4-be53-43d4d6d3242e"
      },
      "outputs": [],
      "source": [
        "df_train = pd.read_csv(\n",
        "    '../data/fraudTrain.csv', \n",
        "    index_col=0, \n",
        "    parse_dates = [\"trans_date_trans_time\", \"dob\"]\n",
        ")\n"
      ]
    },
    {
      "cell_type": "code",
      "execution_count": 3,
      "metadata": {},
      "outputs": [
        {
          "name": "stdout",
          "output_type": "stream",
          "text": [
            "<class 'pandas.core.frame.DataFrame'>\n",
            "Int64Index: 1296675 entries, 0 to 1296674\n",
            "Data columns (total 23 columns):\n",
            " #   Column                 Non-Null Count    Dtype         \n",
            "---  ------                 --------------    -----         \n",
            " 0   trans_date_trans_time  1296675 non-null  datetime64[ns]\n",
            " 1   cc_num                 1296675 non-null  int64         \n",
            " 2   merchant               1296675 non-null  object        \n",
            " 3   category               1296675 non-null  object        \n",
            " 4   amt                    1296675 non-null  float64       \n",
            " 5   first                  1296675 non-null  object        \n",
            " 6   last                   1296675 non-null  object        \n",
            " 7   gender                 1296675 non-null  object        \n",
            " 8   street                 1296675 non-null  object        \n",
            " 9   city                   1296675 non-null  object        \n",
            " 10  state                  1296675 non-null  object        \n",
            " 11  zip                    1296675 non-null  int64         \n",
            " 12  lat                    1296675 non-null  float64       \n",
            " 13  long                   1296675 non-null  float64       \n",
            " 14  city_pop               1296675 non-null  int64         \n",
            " 15  job                    1296675 non-null  object        \n",
            " 16  dob                    1296675 non-null  datetime64[ns]\n",
            " 17  trans_num              1296675 non-null  object        \n",
            " 18  unix_time              1296675 non-null  int64         \n",
            " 19  merch_lat              1296675 non-null  float64       \n",
            " 20  merch_long             1296675 non-null  float64       \n",
            " 21  is_fraud               1296675 non-null  int64         \n",
            " 22  converted_unix_time    1296675 non-null  datetime64[ns]\n",
            "dtypes: datetime64[ns](3), float64(5), int64(5), object(10)\n",
            "memory usage: 237.4+ MB\n"
          ]
        }
      ],
      "source": [
        "# convert the unix_time to datetime\n",
        "df_train[\"converted_unix_time\"] = pd.to_datetime(df_train[\"unix_time\"],unit='s')\n",
        "# data type info\n",
        "df_train.info()"
      ]
    },
    {
      "cell_type": "markdown",
      "metadata": {
        "id": "7L-zTTn3Syvm"
      },
      "source": [
        "### Distance feature calculation\n",
        "We want to build an engineered feature, \"distance\".  For our example, we will use the haversine formula for shortest distance betwen two points on a sphere (globe) based on latitude and longitude.\n",
        "\n",
        "Uses additional libraries:  \n",
        "1. ```pip install haversine``` \n",
        "2. ```pip install dython```"
      ]
    },
    {
      "cell_type": "code",
      "execution_count": null,
      "metadata": {
        "colab": {
          "base_uri": "https://localhost:8080/"
        },
        "id": "mzbdB-ZRBbG-",
        "outputId": "6850e3be-d949-4047-db6c-f318ac051e84"
      },
      "outputs": [],
      "source": [
        "# use these installs if running in Google Colab\n",
        "# # install haversine library\n",
        "# !pip install haversine\n",
        "# # install dython library\n",
        "# !pip install dython"
      ]
    },
    {
      "cell_type": "code",
      "execution_count": null,
      "metadata": {},
      "outputs": [],
      "source": [
        "from haversine import haversine, Unit"
      ]
    },
    {
      "cell_type": "markdown",
      "metadata": {},
      "source": [
        "For ease of use in this example, make a copy of just the columns we need to calculate distances.\n"
      ]
    },
    {
      "cell_type": "code",
      "execution_count": 4,
      "metadata": {},
      "outputs": [],
      "source": [
        "df_locs = df_train[[\"trans_num\", \"is_fraud\", \"cc_num\",\"lat\",\"long\", \"merch_lat\",\"merch_long\",\"street\", \"city\",\"state\",\"zip\"]]\n",
        "df_locs.rename(columns={\"lat\": \"buyer_lat\", \"long\":\"buyer_long\"}, inplace=True)"
      ]
    },
    {
      "cell_type": "markdown",
      "metadata": {},
      "source": [
        "The haversine library for calculating distance takes tuples of latitude, longitude as input.\n",
        "Create new columns for buyer and merchant locations."
      ]
    },
    {
      "cell_type": "code",
      "execution_count": 5,
      "metadata": {},
      "outputs": [],
      "source": [
        "df_locs[\"buyer_location\"] = df_locs[[\"buyer_lat\", \"buyer_long\"]].apply(tuple, axis=1)\n",
        "df_locs[\"merchant_location\"] = df_locs[[\"merch_lat\", \"merch_long\"]].apply(tuple, axis=1)"
      ]
    },
    {
      "cell_type": "code",
      "execution_count": 6,
      "metadata": {},
      "outputs": [
        {
          "data": {
            "text/html": [
              "<div>\n",
              "<style scoped>\n",
              "    .dataframe tbody tr th:only-of-type {\n",
              "        vertical-align: middle;\n",
              "    }\n",
              "\n",
              "    .dataframe tbody tr th {\n",
              "        vertical-align: top;\n",
              "    }\n",
              "\n",
              "    .dataframe thead th {\n",
              "        text-align: right;\n",
              "    }\n",
              "</style>\n",
              "<table border=\"1\" class=\"dataframe\">\n",
              "  <thead>\n",
              "    <tr style=\"text-align: right;\">\n",
              "      <th></th>\n",
              "      <th>trans_num</th>\n",
              "      <th>is_fraud</th>\n",
              "      <th>cc_num</th>\n",
              "      <th>buyer_lat</th>\n",
              "      <th>buyer_long</th>\n",
              "      <th>merch_lat</th>\n",
              "      <th>merch_long</th>\n",
              "      <th>street</th>\n",
              "      <th>city</th>\n",
              "      <th>state</th>\n",
              "      <th>zip</th>\n",
              "      <th>buyer_location</th>\n",
              "      <th>merchant_location</th>\n",
              "    </tr>\n",
              "  </thead>\n",
              "  <tbody>\n",
              "    <tr>\n",
              "      <th>0</th>\n",
              "      <td>0b242abb623afc578575680df30655b9</td>\n",
              "      <td>0</td>\n",
              "      <td>2703186189652095</td>\n",
              "      <td>36.0788</td>\n",
              "      <td>-81.1781</td>\n",
              "      <td>36.011293</td>\n",
              "      <td>-82.048315</td>\n",
              "      <td>561 Perry Cove</td>\n",
              "      <td>Moravian Falls</td>\n",
              "      <td>NC</td>\n",
              "      <td>28654</td>\n",
              "      <td>(36.0788, -81.1781)</td>\n",
              "      <td>(36.011293, -82.048315)</td>\n",
              "    </tr>\n",
              "    <tr>\n",
              "      <th>1</th>\n",
              "      <td>1f76529f8574734946361c461b024d99</td>\n",
              "      <td>0</td>\n",
              "      <td>630423337322</td>\n",
              "      <td>48.8878</td>\n",
              "      <td>-118.2105</td>\n",
              "      <td>49.159047</td>\n",
              "      <td>-118.186462</td>\n",
              "      <td>43039 Riley Greens Suite 393</td>\n",
              "      <td>Orient</td>\n",
              "      <td>WA</td>\n",
              "      <td>99160</td>\n",
              "      <td>(48.8878, -118.2105)</td>\n",
              "      <td>(49.159047, -118.186462)</td>\n",
              "    </tr>\n",
              "    <tr>\n",
              "      <th>2</th>\n",
              "      <td>a1a22d70485983eac12b5b88dad1cf95</td>\n",
              "      <td>0</td>\n",
              "      <td>38859492057661</td>\n",
              "      <td>42.1808</td>\n",
              "      <td>-112.2620</td>\n",
              "      <td>43.150704</td>\n",
              "      <td>-112.154481</td>\n",
              "      <td>594 White Dale Suite 530</td>\n",
              "      <td>Malad City</td>\n",
              "      <td>ID</td>\n",
              "      <td>83252</td>\n",
              "      <td>(42.1808, -112.262)</td>\n",
              "      <td>(43.150704, -112.154481)</td>\n",
              "    </tr>\n",
              "    <tr>\n",
              "      <th>3</th>\n",
              "      <td>6b849c168bdad6f867558c3793159a81</td>\n",
              "      <td>0</td>\n",
              "      <td>3534093764340240</td>\n",
              "      <td>46.2306</td>\n",
              "      <td>-112.1138</td>\n",
              "      <td>47.034331</td>\n",
              "      <td>-112.561071</td>\n",
              "      <td>9443 Cynthia Court Apt. 038</td>\n",
              "      <td>Boulder</td>\n",
              "      <td>MT</td>\n",
              "      <td>59632</td>\n",
              "      <td>(46.2306, -112.1138)</td>\n",
              "      <td>(47.034331, -112.561071)</td>\n",
              "    </tr>\n",
              "    <tr>\n",
              "      <th>4</th>\n",
              "      <td>a41d7549acf90789359a9aa5346dcb46</td>\n",
              "      <td>0</td>\n",
              "      <td>375534208663984</td>\n",
              "      <td>38.4207</td>\n",
              "      <td>-79.4629</td>\n",
              "      <td>38.674999</td>\n",
              "      <td>-78.632459</td>\n",
              "      <td>408 Bradley Rest</td>\n",
              "      <td>Doe Hill</td>\n",
              "      <td>VA</td>\n",
              "      <td>24433</td>\n",
              "      <td>(38.4207, -79.4629)</td>\n",
              "      <td>(38.674999, -78.632459)</td>\n",
              "    </tr>\n",
              "  </tbody>\n",
              "</table>\n",
              "</div>"
            ],
            "text/plain": [
              "                          trans_num  is_fraud            cc_num  buyer_lat  \\\n",
              "0  0b242abb623afc578575680df30655b9         0  2703186189652095    36.0788   \n",
              "1  1f76529f8574734946361c461b024d99         0      630423337322    48.8878   \n",
              "2  a1a22d70485983eac12b5b88dad1cf95         0    38859492057661    42.1808   \n",
              "3  6b849c168bdad6f867558c3793159a81         0  3534093764340240    46.2306   \n",
              "4  a41d7549acf90789359a9aa5346dcb46         0   375534208663984    38.4207   \n",
              "\n",
              "   buyer_long  merch_lat  merch_long                        street  \\\n",
              "0    -81.1781  36.011293  -82.048315                561 Perry Cove   \n",
              "1   -118.2105  49.159047 -118.186462  43039 Riley Greens Suite 393   \n",
              "2   -112.2620  43.150704 -112.154481      594 White Dale Suite 530   \n",
              "3   -112.1138  47.034331 -112.561071   9443 Cynthia Court Apt. 038   \n",
              "4    -79.4629  38.674999  -78.632459              408 Bradley Rest   \n",
              "\n",
              "             city state    zip        buyer_location         merchant_location  \n",
              "0  Moravian Falls    NC  28654   (36.0788, -81.1781)   (36.011293, -82.048315)  \n",
              "1          Orient    WA  99160  (48.8878, -118.2105)  (49.159047, -118.186462)  \n",
              "2      Malad City    ID  83252   (42.1808, -112.262)  (43.150704, -112.154481)  \n",
              "3         Boulder    MT  59632  (46.2306, -112.1138)  (47.034331, -112.561071)  \n",
              "4        Doe Hill    VA  24433   (38.4207, -79.4629)   (38.674999, -78.632459)  "
            ]
          },
          "execution_count": 6,
          "metadata": {},
          "output_type": "execute_result"
        }
      ],
      "source": [
        "df_locs.head()"
      ]
    },
    {
      "cell_type": "code",
      "execution_count": null,
      "metadata": {},
      "outputs": [],
      "source": [
        "df_locs.info()"
      ]
    },
    {
      "cell_type": "markdown",
      "metadata": {},
      "source": [
        "Create a function to enabling the calculation on all the rows of our dataset"
      ]
    },
    {
      "cell_type": "code",
      "execution_count": 7,
      "metadata": {},
      "outputs": [],
      "source": [
        "def calc_distance(loc1_col, loc2_col):\n",
        "  \"\"\"Calculates the haversine distance between two geopoints \n",
        "  (tuples of latitude, longitude) in miles, rounded to 2 decimals.\n",
        "  \"\"\"\n",
        "  return round((haversine(loc1_col, loc2_col, unit=Unit.MILES)),2)"
      ]
    },
    {
      "cell_type": "code",
      "execution_count": 8,
      "metadata": {},
      "outputs": [],
      "source": [
        "df_locs[\"distance_buyer_merch\"] = df_locs.apply(\n",
        "    lambda x: calc_distance(\n",
        "        x[\"buyer_location\"], \n",
        "        x[\"merchant_location\"]\n",
        "    ), \n",
        "    axis=1\n",
        ")"
      ]
    },
    {
      "cell_type": "code",
      "execution_count": 9,
      "metadata": {},
      "outputs": [
        {
          "data": {
            "text/html": [
              "<div>\n",
              "<style scoped>\n",
              "    .dataframe tbody tr th:only-of-type {\n",
              "        vertical-align: middle;\n",
              "    }\n",
              "\n",
              "    .dataframe tbody tr th {\n",
              "        vertical-align: top;\n",
              "    }\n",
              "\n",
              "    .dataframe thead th {\n",
              "        text-align: right;\n",
              "    }\n",
              "</style>\n",
              "<table border=\"1\" class=\"dataframe\">\n",
              "  <thead>\n",
              "    <tr style=\"text-align: right;\">\n",
              "      <th></th>\n",
              "      <th>trans_num</th>\n",
              "      <th>is_fraud</th>\n",
              "      <th>cc_num</th>\n",
              "      <th>buyer_lat</th>\n",
              "      <th>buyer_long</th>\n",
              "      <th>merch_lat</th>\n",
              "      <th>merch_long</th>\n",
              "      <th>street</th>\n",
              "      <th>city</th>\n",
              "      <th>state</th>\n",
              "      <th>zip</th>\n",
              "      <th>buyer_location</th>\n",
              "      <th>merchant_location</th>\n",
              "      <th>distance_buyer_merch</th>\n",
              "    </tr>\n",
              "  </thead>\n",
              "  <tbody>\n",
              "    <tr>\n",
              "      <th>0</th>\n",
              "      <td>0b242abb623afc578575680df30655b9</td>\n",
              "      <td>0</td>\n",
              "      <td>2703186189652095</td>\n",
              "      <td>36.0788</td>\n",
              "      <td>-81.1781</td>\n",
              "      <td>36.011293</td>\n",
              "      <td>-82.048315</td>\n",
              "      <td>561 Perry Cove</td>\n",
              "      <td>Moravian Falls</td>\n",
              "      <td>NC</td>\n",
              "      <td>28654</td>\n",
              "      <td>(36.0788, -81.1781)</td>\n",
              "      <td>(36.011293, -82.048315)</td>\n",
              "      <td>48.84</td>\n",
              "    </tr>\n",
              "    <tr>\n",
              "      <th>1</th>\n",
              "      <td>1f76529f8574734946361c461b024d99</td>\n",
              "      <td>0</td>\n",
              "      <td>630423337322</td>\n",
              "      <td>48.8878</td>\n",
              "      <td>-118.2105</td>\n",
              "      <td>49.159047</td>\n",
              "      <td>-118.186462</td>\n",
              "      <td>43039 Riley Greens Suite 393</td>\n",
              "      <td>Orient</td>\n",
              "      <td>WA</td>\n",
              "      <td>99160</td>\n",
              "      <td>(48.8878, -118.2105)</td>\n",
              "      <td>(49.159047, -118.186462)</td>\n",
              "      <td>18.77</td>\n",
              "    </tr>\n",
              "    <tr>\n",
              "      <th>2</th>\n",
              "      <td>a1a22d70485983eac12b5b88dad1cf95</td>\n",
              "      <td>0</td>\n",
              "      <td>38859492057661</td>\n",
              "      <td>42.1808</td>\n",
              "      <td>-112.2620</td>\n",
              "      <td>43.150704</td>\n",
              "      <td>-112.154481</td>\n",
              "      <td>594 White Dale Suite 530</td>\n",
              "      <td>Malad City</td>\n",
              "      <td>ID</td>\n",
              "      <td>83252</td>\n",
              "      <td>(42.1808, -112.262)</td>\n",
              "      <td>(43.150704, -112.154481)</td>\n",
              "      <td>67.24</td>\n",
              "    </tr>\n",
              "    <tr>\n",
              "      <th>3</th>\n",
              "      <td>6b849c168bdad6f867558c3793159a81</td>\n",
              "      <td>0</td>\n",
              "      <td>3534093764340240</td>\n",
              "      <td>46.2306</td>\n",
              "      <td>-112.1138</td>\n",
              "      <td>47.034331</td>\n",
              "      <td>-112.561071</td>\n",
              "      <td>9443 Cynthia Court Apt. 038</td>\n",
              "      <td>Boulder</td>\n",
              "      <td>MT</td>\n",
              "      <td>59632</td>\n",
              "      <td>(46.2306, -112.1138)</td>\n",
              "      <td>(47.034331, -112.561071)</td>\n",
              "      <td>59.45</td>\n",
              "    </tr>\n",
              "    <tr>\n",
              "      <th>4</th>\n",
              "      <td>a41d7549acf90789359a9aa5346dcb46</td>\n",
              "      <td>0</td>\n",
              "      <td>375534208663984</td>\n",
              "      <td>38.4207</td>\n",
              "      <td>-79.4629</td>\n",
              "      <td>38.674999</td>\n",
              "      <td>-78.632459</td>\n",
              "      <td>408 Bradley Rest</td>\n",
              "      <td>Doe Hill</td>\n",
              "      <td>VA</td>\n",
              "      <td>24433</td>\n",
              "      <td>(38.4207, -79.4629)</td>\n",
              "      <td>(38.674999, -78.632459)</td>\n",
              "      <td>48.19</td>\n",
              "    </tr>\n",
              "  </tbody>\n",
              "</table>\n",
              "</div>"
            ],
            "text/plain": [
              "                          trans_num  is_fraud            cc_num  buyer_lat  \\\n",
              "0  0b242abb623afc578575680df30655b9         0  2703186189652095    36.0788   \n",
              "1  1f76529f8574734946361c461b024d99         0      630423337322    48.8878   \n",
              "2  a1a22d70485983eac12b5b88dad1cf95         0    38859492057661    42.1808   \n",
              "3  6b849c168bdad6f867558c3793159a81         0  3534093764340240    46.2306   \n",
              "4  a41d7549acf90789359a9aa5346dcb46         0   375534208663984    38.4207   \n",
              "\n",
              "   buyer_long  merch_lat  merch_long                        street  \\\n",
              "0    -81.1781  36.011293  -82.048315                561 Perry Cove   \n",
              "1   -118.2105  49.159047 -118.186462  43039 Riley Greens Suite 393   \n",
              "2   -112.2620  43.150704 -112.154481      594 White Dale Suite 530   \n",
              "3   -112.1138  47.034331 -112.561071   9443 Cynthia Court Apt. 038   \n",
              "4    -79.4629  38.674999  -78.632459              408 Bradley Rest   \n",
              "\n",
              "             city state    zip        buyer_location  \\\n",
              "0  Moravian Falls    NC  28654   (36.0788, -81.1781)   \n",
              "1          Orient    WA  99160  (48.8878, -118.2105)   \n",
              "2      Malad City    ID  83252   (42.1808, -112.262)   \n",
              "3         Boulder    MT  59632  (46.2306, -112.1138)   \n",
              "4        Doe Hill    VA  24433   (38.4207, -79.4629)   \n",
              "\n",
              "          merchant_location  distance_buyer_merch  \n",
              "0   (36.011293, -82.048315)                 48.84  \n",
              "1  (49.159047, -118.186462)                 18.77  \n",
              "2  (43.150704, -112.154481)                 67.24  \n",
              "3  (47.034331, -112.561071)                 59.45  \n",
              "4   (38.674999, -78.632459)                 48.19  "
            ]
          },
          "execution_count": 9,
          "metadata": {},
          "output_type": "execute_result"
        }
      ],
      "source": [
        "df_locs.head()"
      ]
    },
    {
      "cell_type": "code",
      "execution_count": 10,
      "metadata": {},
      "outputs": [
        {
          "data": {
            "text/plain": [
              "array([[<Axes: title={'center': 'distance_buyer_merch'}>]], dtype=object)"
            ]
          },
          "execution_count": 10,
          "metadata": {},
          "output_type": "execute_result"
        },
        {
          "data": {
            "image/png": "[encoded data removed]",
            "text/plain": [
              "<Figure size 800x500 with 1 Axes>"
            ]
          },
          "metadata": {},
          "output_type": "display_data"
        }
      ],
      "source": [
        "# look at the distance distribution\n",
        "df_locs[[\"distance_buyer_merch\"]].hist(figsize=(8,5))"
      ]
    },
    {
      "cell_type": "code",
      "execution_count": 15,
      "metadata": {},
      "outputs": [
        {
          "data": {
            "text/plain": [
              "Text(0.5, 1.0, 'Correlation Heatmap')"
            ]
          },
          "execution_count": 15,
          "metadata": {},
          "output_type": "execute_result"
        },
        {
          "data": {
            "image/png": "[encoded data removed]",
            "text/plain": [
              "<Figure size 500x500 with 2 Axes>"
            ]
          },
          "metadata": {},
          "output_type": "display_data"
        }
      ],
      "source": [
        "\n",
        "plt.rcParams['figure.figsize'] = (5, 5)\n",
        "\n",
        "dist_corr = df_locs[\n",
        "    [\n",
        "        \"is_fraud\", \n",
        "        \"distance_buyer_merch\", \n",
        "        \"buyer_lat\", \n",
        "        \"buyer_long\",\n",
        "        \"merch_lat\", \n",
        "        \"merch_long\",\n",
        "    ]\n",
        "].corr()\n",
        "# mask diagonal and upper triangle\n",
        "mask = np.triu(np.ones_like(dist_corr, dtype=bool))\n",
        "heatmap = sns.heatmap(\n",
        "    dist_corr, \n",
        "    vmin=-1.0, \n",
        "    vmax=1.0, \n",
        "    cmap=\"coolwarm\",\n",
        "    mask=mask,\n",
        "    annot=True)\n",
        "heatmap.set_title(\"Correlation Heatmap\")"
      ]
    },
    {
      "cell_type": "markdown",
      "metadata": {},
      "source": [
        "While the correlation of distance to fraud is not compeling as a feature, lets explore how we may have arrived at an engineered distance feature if we did not have lat & long in the dataset."
      ]
    },
    {
      "cell_type": "markdown",
      "metadata": {},
      "source": [
        "### Geocoding\n",
        "\n",
        "Geocoding can be done at different levels (address, zip code, city, state).  The best would be at the specific buyer address and merchant location.  But this also has different meanings for online vs. in-person purchases.  This example is using city, state as the basis of geocoding for latitude and longitude.\n",
        "\n",
        "We're using a geocoding guide by Peter Haas published [here](https://peterhaas-me.medium.com/how-to-geocode-with-python-and-pandas-4cd1d717d3f7) on Medium to geocode the \n",
        "addresses in our dataset.\n",
        "\n",
        "You'll need to install the geopy library:   ```pip install geopy```"
      ]
    },
    {
      "cell_type": "code",
      "execution_count": 37,
      "metadata": {},
      "outputs": [],
      "source": [
        "from geopy.geocoders import Nominatim               # OpenStreetMaps geocoding service\n",
        "from geopy import distance                          # distance calculation built into geopy library\n",
        "from geopy.extra.rate_limiter import RateLimiter    # To limit service request rates per provider terms (Nominatum is 1/sec)"
      ]
    },
    {
      "cell_type": "markdown",
      "metadata": {},
      "source": [
        "Create instances of the geocoding classes that enable applying the service to a dataframe.  \n",
        "We need to limit the API call rate to be compliant with the service terms."
      ]
    },
    {
      "cell_type": "code",
      "execution_count": 38,
      "metadata": {},
      "outputs": [],
      "source": [
        "geolocator = Nominatim(timeout=10, user_agent=\"OMLDS_test\")\n",
        "geocode = RateLimiter(\n",
        "    geolocator.geocode, \n",
        "    min_delay_seconds=1, \n",
        "    max_retries=2, \n",
        "    error_wait_seconds=5.0, \n",
        "    swallow_exceptions=True,\n",
        "    return_value_on_exception=None\n",
        "    )"
      ]
    },
    {
      "cell_type": "markdown",
      "metadata": {},
      "source": [
        "Since addresses are supposed to be unique per cc_num, we don't need to call geocoding on all transactions, only unique cc_num/address combinations.  This will greatly reduce the number of geocoding calls (983 instead of 1.2M+)."
      ]
    },
    {
      "cell_type": "code",
      "execution_count": 30,
      "metadata": {},
      "outputs": [
        {
          "name": "stdout",
          "output_type": "stream",
          "text": [
            "<class 'pandas.core.frame.DataFrame'>\n",
            "Int64Index: 983 entries, 0 to 1275589\n",
            "Data columns (total 5 columns):\n",
            " #   Column  Non-Null Count  Dtype \n",
            "---  ------  --------------  ----- \n",
            " 0   cc_num  983 non-null    int64 \n",
            " 1   street  983 non-null    object\n",
            " 2   city    983 non-null    object\n",
            " 3   state   983 non-null    object\n",
            " 4   zip     983 non-null    int64 \n",
            "dtypes: int64(2), object(3)\n",
            "memory usage: 46.1+ KB\n"
          ]
        }
      ],
      "source": [
        "df_geocode = df_train[[\"cc_num\", \"street\", \"city\", \"state\", \"zip\"]].copy()\n",
        "df_geocode.drop_duplicates(inplace=True)\n",
        "df_geocode.info()"
      ]
    },
    {
      "cell_type": "markdown",
      "metadata": {},
      "source": [
        "In the case of this simulated dataset the full address is not real.  Therefore we are using city, state to retrieve a geocode."
      ]
    },
    {
      "cell_type": "code",
      "execution_count": 31,
      "metadata": {},
      "outputs": [],
      "source": [
        "# add columns for city_state and full_address used in geocoding\n",
        "# because this is a simulated public training dataset the full addresses are not real\n",
        "# we can however use the city and state as an approximation of location aside from the given lat/long\n",
        "\n",
        "# if we were using real data, we'd create a full address field to geocode\n",
        "# df_cc_address[\"full_address\"] = df_cc_address.street + \",\" + df_cc_address.city + \",\" + df_cc_address.state #+ \", \" + str(df_cc_address.zip)\n",
        "\n",
        "# This geocoding service requires city,state with no spaces\n",
        "df_geocode[\"city_state\"] = df_geocode.city +\",\"+df_geocode.state\n"
      ]
    },
    {
      "cell_type": "code",
      "execution_count": 32,
      "metadata": {},
      "outputs": [
        {
          "data": {
            "text/html": [
              "<div>\n",
              "<style scoped>\n",
              "    .dataframe tbody tr th:only-of-type {\n",
              "        vertical-align: middle;\n",
              "    }\n",
              "\n",
              "    .dataframe tbody tr th {\n",
              "        vertical-align: top;\n",
              "    }\n",
              "\n",
              "    .dataframe thead th {\n",
              "        text-align: right;\n",
              "    }\n",
              "</style>\n",
              "<table border=\"1\" class=\"dataframe\">\n",
              "  <thead>\n",
              "    <tr style=\"text-align: right;\">\n",
              "      <th></th>\n",
              "      <th>cc_num</th>\n",
              "      <th>street</th>\n",
              "      <th>city</th>\n",
              "      <th>state</th>\n",
              "      <th>zip</th>\n",
              "      <th>city_state</th>\n",
              "    </tr>\n",
              "  </thead>\n",
              "  <tbody>\n",
              "    <tr>\n",
              "      <th>0</th>\n",
              "      <td>2703186189652095</td>\n",
              "      <td>561 Perry Cove</td>\n",
              "      <td>Moravian Falls</td>\n",
              "      <td>NC</td>\n",
              "      <td>28654</td>\n",
              "      <td>Moravian Falls,NC</td>\n",
              "    </tr>\n",
              "    <tr>\n",
              "      <th>1</th>\n",
              "      <td>630423337322</td>\n",
              "      <td>43039 Riley Greens Suite 393</td>\n",
              "      <td>Orient</td>\n",
              "      <td>WA</td>\n",
              "      <td>99160</td>\n",
              "      <td>Orient,WA</td>\n",
              "    </tr>\n",
              "    <tr>\n",
              "      <th>2</th>\n",
              "      <td>38859492057661</td>\n",
              "      <td>594 White Dale Suite 530</td>\n",
              "      <td>Malad City</td>\n",
              "      <td>ID</td>\n",
              "      <td>83252</td>\n",
              "      <td>Malad City,ID</td>\n",
              "    </tr>\n",
              "    <tr>\n",
              "      <th>3</th>\n",
              "      <td>3534093764340240</td>\n",
              "      <td>9443 Cynthia Court Apt. 038</td>\n",
              "      <td>Boulder</td>\n",
              "      <td>MT</td>\n",
              "      <td>59632</td>\n",
              "      <td>Boulder,MT</td>\n",
              "    </tr>\n",
              "    <tr>\n",
              "      <th>4</th>\n",
              "      <td>375534208663984</td>\n",
              "      <td>408 Bradley Rest</td>\n",
              "      <td>Doe Hill</td>\n",
              "      <td>VA</td>\n",
              "      <td>24433</td>\n",
              "      <td>Doe Hill,VA</td>\n",
              "    </tr>\n",
              "  </tbody>\n",
              "</table>\n",
              "</div>"
            ],
            "text/plain": [
              "             cc_num                        street            city state  \\\n",
              "0  2703186189652095                561 Perry Cove  Moravian Falls    NC   \n",
              "1      630423337322  43039 Riley Greens Suite 393          Orient    WA   \n",
              "2    38859492057661      594 White Dale Suite 530      Malad City    ID   \n",
              "3  3534093764340240   9443 Cynthia Court Apt. 038         Boulder    MT   \n",
              "4   375534208663984              408 Bradley Rest        Doe Hill    VA   \n",
              "\n",
              "     zip         city_state  \n",
              "0  28654  Moravian Falls,NC  \n",
              "1  99160          Orient,WA  \n",
              "2  83252      Malad City,ID  \n",
              "3  59632         Boulder,MT  \n",
              "4  24433        Doe Hill,VA  "
            ]
          },
          "execution_count": 32,
          "metadata": {},
          "output_type": "execute_result"
        }
      ],
      "source": [
        "df_geocode.head()"
      ]
    },
    {
      "cell_type": "markdown",
      "metadata": {},
      "source": [
        "Running the free geocoding service offered by open streetmaps is limited to 1 call per second.  For the full set of unique city-states we need approx. 20 min.  We'll use a small test set to show how the call works.  The file full file is saved as geocode_city_state.csv"
      ]
    },
    {
      "cell_type": "code",
      "execution_count": 33,
      "metadata": {},
      "outputs": [],
      "source": [
        "df_geocode_sample = df_geocode.sample(n=5, random_state=42)"
      ]
    },
    {
      "cell_type": "code",
      "execution_count": 34,
      "metadata": {},
      "outputs": [
        {
          "data": {
            "text/html": [
              "<div>\n",
              "<style scoped>\n",
              "    .dataframe tbody tr th:only-of-type {\n",
              "        vertical-align: middle;\n",
              "    }\n",
              "\n",
              "    .dataframe tbody tr th {\n",
              "        vertical-align: top;\n",
              "    }\n",
              "\n",
              "    .dataframe thead th {\n",
              "        text-align: right;\n",
              "    }\n",
              "</style>\n",
              "<table border=\"1\" class=\"dataframe\">\n",
              "  <thead>\n",
              "    <tr style=\"text-align: right;\">\n",
              "      <th></th>\n",
              "      <th>cc_num</th>\n",
              "      <th>street</th>\n",
              "      <th>city</th>\n",
              "      <th>state</th>\n",
              "      <th>zip</th>\n",
              "      <th>city_state</th>\n",
              "    </tr>\n",
              "  </thead>\n",
              "  <tbody>\n",
              "    <tr>\n",
              "      <th>2772</th>\n",
              "      <td>4390966588600992777</td>\n",
              "      <td>8149 Harris Divide</td>\n",
              "      <td>Oklahoma City</td>\n",
              "      <td>OK</td>\n",
              "      <td>73134</td>\n",
              "      <td>Oklahoma City,OK</td>\n",
              "    </tr>\n",
              "    <tr>\n",
              "      <th>2648</th>\n",
              "      <td>4178097073221156</td>\n",
              "      <td>639 Cruz Islands</td>\n",
              "      <td>Baroda</td>\n",
              "      <td>MI</td>\n",
              "      <td>49101</td>\n",
              "      <td>Baroda,MI</td>\n",
              "    </tr>\n",
              "    <tr>\n",
              "      <th>2821</th>\n",
              "      <td>213186334552049</td>\n",
              "      <td>37426 Olson Villages</td>\n",
              "      <td>Irvine</td>\n",
              "      <td>PA</td>\n",
              "      <td>16329</td>\n",
              "      <td>Irvine,PA</td>\n",
              "    </tr>\n",
              "    <tr>\n",
              "      <th>801</th>\n",
              "      <td>4561546772499</td>\n",
              "      <td>7118 Jessica Unions Apt. 789</td>\n",
              "      <td>Moriarty</td>\n",
              "      <td>NM</td>\n",
              "      <td>87035</td>\n",
              "      <td>Moriarty,NM</td>\n",
              "    </tr>\n",
              "    <tr>\n",
              "      <th>69</th>\n",
              "      <td>2248735346244816</td>\n",
              "      <td>29156 Mark Park Apt. 108</td>\n",
              "      <td>Utica</td>\n",
              "      <td>KS</td>\n",
              "      <td>67584</td>\n",
              "      <td>Utica,KS</td>\n",
              "    </tr>\n",
              "  </tbody>\n",
              "</table>\n",
              "</div>"
            ],
            "text/plain": [
              "                   cc_num                        street           city state  \\\n",
              "2772  4390966588600992777            8149 Harris Divide  Oklahoma City    OK   \n",
              "2648     4178097073221156              639 Cruz Islands         Baroda    MI   \n",
              "2821      213186334552049          37426 Olson Villages         Irvine    PA   \n",
              "801         4561546772499  7118 Jessica Unions Apt. 789       Moriarty    NM   \n",
              "69       2248735346244816      29156 Mark Park Apt. 108          Utica    KS   \n",
              "\n",
              "        zip        city_state  \n",
              "2772  73134  Oklahoma City,OK  \n",
              "2648  49101         Baroda,MI  \n",
              "2821  16329         Irvine,PA  \n",
              "801   87035       Moriarty,NM  \n",
              "69    67584          Utica,KS  "
            ]
          },
          "execution_count": 34,
          "metadata": {},
          "output_type": "execute_result"
        }
      ],
      "source": [
        "df_geocode_sample"
      ]
    },
    {
      "cell_type": "code",
      "execution_count": 39,
      "metadata": {},
      "outputs": [],
      "source": [
        "df_geocode_sample[\"geocode\"] = df_geocode_sample[\"city_state\"].apply(geocode)"
      ]
    },
    {
      "cell_type": "code",
      "execution_count": 40,
      "metadata": {},
      "outputs": [
        {
          "data": {
            "text/html": [
              "<div>\n",
              "<style scoped>\n",
              "    .dataframe tbody tr th:only-of-type {\n",
              "        vertical-align: middle;\n",
              "    }\n",
              "\n",
              "    .dataframe tbody tr th {\n",
              "        vertical-align: top;\n",
              "    }\n",
              "\n",
              "    .dataframe thead th {\n",
              "        text-align: right;\n",
              "    }\n",
              "</style>\n",
              "<table border=\"1\" class=\"dataframe\">\n",
              "  <thead>\n",
              "    <tr style=\"text-align: right;\">\n",
              "      <th></th>\n",
              "      <th>cc_num</th>\n",
              "      <th>street</th>\n",
              "      <th>city</th>\n",
              "      <th>state</th>\n",
              "      <th>zip</th>\n",
              "      <th>city_state</th>\n",
              "      <th>geocode</th>\n",
              "    </tr>\n",
              "  </thead>\n",
              "  <tbody>\n",
              "    <tr>\n",
              "      <th>2772</th>\n",
              "      <td>4390966588600992777</td>\n",
              "      <td>8149 Harris Divide</td>\n",
              "      <td>Oklahoma City</td>\n",
              "      <td>OK</td>\n",
              "      <td>73134</td>\n",
              "      <td>Oklahoma City,OK</td>\n",
              "      <td>(Oklahoma City, Oklahoma County, Oklahoma, Uni...</td>\n",
              "    </tr>\n",
              "    <tr>\n",
              "      <th>2648</th>\n",
              "      <td>4178097073221156</td>\n",
              "      <td>639 Cruz Islands</td>\n",
              "      <td>Baroda</td>\n",
              "      <td>MI</td>\n",
              "      <td>49101</td>\n",
              "      <td>Baroda,MI</td>\n",
              "      <td>(Baroda, Baroda Township, Berrien County, Mich...</td>\n",
              "    </tr>\n",
              "    <tr>\n",
              "      <th>2821</th>\n",
              "      <td>213186334552049</td>\n",
              "      <td>37426 Olson Villages</td>\n",
              "      <td>Irvine</td>\n",
              "      <td>PA</td>\n",
              "      <td>16329</td>\n",
              "      <td>Irvine,PA</td>\n",
              "      <td>(Irvine, Brokenstraw Township, Warren County, ...</td>\n",
              "    </tr>\n",
              "    <tr>\n",
              "      <th>801</th>\n",
              "      <td>4561546772499</td>\n",
              "      <td>7118 Jessica Unions Apt. 789</td>\n",
              "      <td>Moriarty</td>\n",
              "      <td>NM</td>\n",
              "      <td>87035</td>\n",
              "      <td>Moriarty,NM</td>\n",
              "      <td>(Moriarty, Torrance County, New Mexico, 87035,...</td>\n",
              "    </tr>\n",
              "    <tr>\n",
              "      <th>69</th>\n",
              "      <td>2248735346244816</td>\n",
              "      <td>29156 Mark Park Apt. 108</td>\n",
              "      <td>Utica</td>\n",
              "      <td>KS</td>\n",
              "      <td>67584</td>\n",
              "      <td>Utica,KS</td>\n",
              "      <td>(Utica, Ness County, Kansas, United States, (3...</td>\n",
              "    </tr>\n",
              "  </tbody>\n",
              "</table>\n",
              "</div>"
            ],
            "text/plain": [
              "                   cc_num                        street           city state  \\\n",
              "2772  4390966588600992777            8149 Harris Divide  Oklahoma City    OK   \n",
              "2648     4178097073221156              639 Cruz Islands         Baroda    MI   \n",
              "2821      213186334552049          37426 Olson Villages         Irvine    PA   \n",
              "801         4561546772499  7118 Jessica Unions Apt. 789       Moriarty    NM   \n",
              "69       2248735346244816      29156 Mark Park Apt. 108          Utica    KS   \n",
              "\n",
              "        zip        city_state  \\\n",
              "2772  73134  Oklahoma City,OK   \n",
              "2648  49101         Baroda,MI   \n",
              "2821  16329         Irvine,PA   \n",
              "801   87035       Moriarty,NM   \n",
              "69    67584          Utica,KS   \n",
              "\n",
              "                                                geocode  \n",
              "2772  (Oklahoma City, Oklahoma County, Oklahoma, Uni...  \n",
              "2648  (Baroda, Baroda Township, Berrien County, Mich...  \n",
              "2821  (Irvine, Brokenstraw Township, Warren County, ...  \n",
              "801   (Moriarty, Torrance County, New Mexico, 87035,...  \n",
              "69    (Utica, Ness County, Kansas, United States, (3...  "
            ]
          },
          "execution_count": 40,
          "metadata": {},
          "output_type": "execute_result"
        }
      ],
      "source": [
        "df_geocode_sample"
      ]
    },
    {
      "cell_type": "markdown",
      "metadata": {},
      "source": [
        "Extract the latitude and longitude info from the geocode object to new fields"
      ]
    },
    {
      "cell_type": "code",
      "execution_count": 41,
      "metadata": {},
      "outputs": [],
      "source": [
        "df_geocode_sample[\"geocode_city_state_lat\"] = [g.latitude for g in df_geocode_sample.geocode]\n",
        "df_geocode_sample[\"geocode_city_state_long\"] = [g.longitude for g in df_geocode_sample.geocode]"
      ]
    },
    {
      "cell_type": "markdown",
      "metadata": {},
      "source": [
        "Create a tuple of lat,long for our distance calculation."
      ]
    },
    {
      "cell_type": "code",
      "execution_count": 42,
      "metadata": {},
      "outputs": [],
      "source": [
        "df_geocode_sample[\"geocode_location\"] = df_geocode_sample[[\"geocode_city_state_lat\", \"geocode_city_state_long\"]].apply(tuple, axis=1)"
      ]
    },
    {
      "cell_type": "code",
      "execution_count": 43,
      "metadata": {},
      "outputs": [
        {
          "data": {
            "text/html": [
              "<div>\n",
              "<style scoped>\n",
              "    .dataframe tbody tr th:only-of-type {\n",
              "        vertical-align: middle;\n",
              "    }\n",
              "\n",
              "    .dataframe tbody tr th {\n",
              "        vertical-align: top;\n",
              "    }\n",
              "\n",
              "    .dataframe thead th {\n",
              "        text-align: right;\n",
              "    }\n",
              "</style>\n",
              "<table border=\"1\" class=\"dataframe\">\n",
              "  <thead>\n",
              "    <tr style=\"text-align: right;\">\n",
              "      <th></th>\n",
              "      <th>cc_num</th>\n",
              "      <th>street</th>\n",
              "      <th>city</th>\n",
              "      <th>state</th>\n",
              "      <th>zip</th>\n",
              "      <th>city_state</th>\n",
              "      <th>geocode</th>\n",
              "      <th>geocode_city_state_lat</th>\n",
              "      <th>geocode_city_state_long</th>\n",
              "      <th>geocode_location</th>\n",
              "    </tr>\n",
              "  </thead>\n",
              "  <tbody>\n",
              "    <tr>\n",
              "      <th>2772</th>\n",
              "      <td>4390966588600992777</td>\n",
              "      <td>8149 Harris Divide</td>\n",
              "      <td>Oklahoma City</td>\n",
              "      <td>OK</td>\n",
              "      <td>73134</td>\n",
              "      <td>Oklahoma City,OK</td>\n",
              "      <td>(Oklahoma City, Oklahoma County, Oklahoma, Uni...</td>\n",
              "      <td>35.472989</td>\n",
              "      <td>-97.517054</td>\n",
              "      <td>(35.4729886, -97.5170536)</td>\n",
              "    </tr>\n",
              "    <tr>\n",
              "      <th>2648</th>\n",
              "      <td>4178097073221156</td>\n",
              "      <td>639 Cruz Islands</td>\n",
              "      <td>Baroda</td>\n",
              "      <td>MI</td>\n",
              "      <td>49101</td>\n",
              "      <td>Baroda,MI</td>\n",
              "      <td>(Baroda, Baroda Township, Berrien County, Mich...</td>\n",
              "      <td>41.957025</td>\n",
              "      <td>-86.484348</td>\n",
              "      <td>(41.9570248, -86.4843483)</td>\n",
              "    </tr>\n",
              "    <tr>\n",
              "      <th>2821</th>\n",
              "      <td>213186334552049</td>\n",
              "      <td>37426 Olson Villages</td>\n",
              "      <td>Irvine</td>\n",
              "      <td>PA</td>\n",
              "      <td>16329</td>\n",
              "      <td>Irvine,PA</td>\n",
              "      <td>(Irvine, Brokenstraw Township, Warren County, ...</td>\n",
              "      <td>41.839226</td>\n",
              "      <td>-79.268381</td>\n",
              "      <td>(41.8392258, -79.2683812)</td>\n",
              "    </tr>\n",
              "    <tr>\n",
              "      <th>801</th>\n",
              "      <td>4561546772499</td>\n",
              "      <td>7118 Jessica Unions Apt. 789</td>\n",
              "      <td>Moriarty</td>\n",
              "      <td>NM</td>\n",
              "      <td>87035</td>\n",
              "      <td>Moriarty,NM</td>\n",
              "      <td>(Moriarty, Torrance County, New Mexico, 87035,...</td>\n",
              "      <td>34.997204</td>\n",
              "      <td>-106.049488</td>\n",
              "      <td>(34.9972037, -106.0494876)</td>\n",
              "    </tr>\n",
              "    <tr>\n",
              "      <th>69</th>\n",
              "      <td>2248735346244816</td>\n",
              "      <td>29156 Mark Park Apt. 108</td>\n",
              "      <td>Utica</td>\n",
              "      <td>KS</td>\n",
              "      <td>67584</td>\n",
              "      <td>Utica,KS</td>\n",
              "      <td>(Utica, Ness County, Kansas, United States, (3...</td>\n",
              "      <td>38.643903</td>\n",
              "      <td>-100.169852</td>\n",
              "      <td>(38.6439032, -100.169852)</td>\n",
              "    </tr>\n",
              "  </tbody>\n",
              "</table>\n",
              "</div>"
            ],
            "text/plain": [
              "                   cc_num                        street           city state  \\\n",
              "2772  4390966588600992777            8149 Harris Divide  Oklahoma City    OK   \n",
              "2648     4178097073221156              639 Cruz Islands         Baroda    MI   \n",
              "2821      213186334552049          37426 Olson Villages         Irvine    PA   \n",
              "801         4561546772499  7118 Jessica Unions Apt. 789       Moriarty    NM   \n",
              "69       2248735346244816      29156 Mark Park Apt. 108          Utica    KS   \n",
              "\n",
              "        zip        city_state  \\\n",
              "2772  73134  Oklahoma City,OK   \n",
              "2648  49101         Baroda,MI   \n",
              "2821  16329         Irvine,PA   \n",
              "801   87035       Moriarty,NM   \n",
              "69    67584          Utica,KS   \n",
              "\n",
              "                                                geocode  \\\n",
              "2772  (Oklahoma City, Oklahoma County, Oklahoma, Uni...   \n",
              "2648  (Baroda, Baroda Township, Berrien County, Mich...   \n",
              "2821  (Irvine, Brokenstraw Township, Warren County, ...   \n",
              "801   (Moriarty, Torrance County, New Mexico, 87035,...   \n",
              "69    (Utica, Ness County, Kansas, United States, (3...   \n",
              "\n",
              "      geocode_city_state_lat  geocode_city_state_long  \\\n",
              "2772               35.472989               -97.517054   \n",
              "2648               41.957025               -86.484348   \n",
              "2821               41.839226               -79.268381   \n",
              "801                34.997204              -106.049488   \n",
              "69                 38.643903              -100.169852   \n",
              "\n",
              "                geocode_location  \n",
              "2772   (35.4729886, -97.5170536)  \n",
              "2648   (41.9570248, -86.4843483)  \n",
              "2821   (41.8392258, -79.2683812)  \n",
              "801   (34.9972037, -106.0494876)  \n",
              "69     (38.6439032, -100.169852)  "
            ]
          },
          "execution_count": 43,
          "metadata": {},
          "output_type": "execute_result"
        }
      ],
      "source": [
        "df_geocode_sample.head()"
      ]
    },
    {
      "cell_type": "code",
      "execution_count": null,
      "metadata": {},
      "outputs": [],
      "source": [
        "df_test = df_locs.merge(\n",
        "    df_geocode[[\"city\", \"state\", \"geocode\"]],\n",
        "    on=\"city_state\"\n",
        ")"
      ]
    },
    {
      "cell_type": "markdown",
      "metadata": {},
      "source": [
        "Reformat the city_state field for merging back to our main dataset."
      ]
    },
    {
      "cell_type": "code",
      "execution_count": 44,
      "metadata": {},
      "outputs": [],
      "source": []
    },
    {
      "cell_type": "code",
      "execution_count": null,
      "metadata": {},
      "outputs": [],
      "source": [
        "df_locs[\"distance_buyer_merch\"] = df_locs.apply(\n",
        "    lambda x: calc_distance(\n",
        "        x[\"buyer_location\"], \n",
        "        x[\"merchant_location\"]\n",
        "    ), \n",
        "    axis=1\n",
        ")"
      ]
    },
    {
      "cell_type": "code",
      "execution_count": null,
      "metadata": {},
      "outputs": [],
      "source": [
        "# FYI:  This took approx 20 min. to run\n",
        "# df_geocode[\"geocode\"] = df_geocode[\"city_state\"].apply(geocode)\n",
        "\n",
        "# save to pickle file\n",
        "# df_geocode.to_pickle(\"../data/geocode_city_state.pkl\")\n",
        "\n",
        "# read saved pkl file\n",
        "# df_geocode = pd.read_pickle(\"../data/geocode_city_state.pkl\")\n",
        "\n",
        "# df_geocode.info()\n",
        "\n",
        "# df_geocode.loc[df_geocode[\"city\"].str.startswith(\"Mc\")]"
      ]
    },
    {
      "cell_type": "markdown",
      "metadata": {},
      "source": [
        "### Geocoded city_state\n",
        "Ricardo ran the set of city,state values through an R library and saved the lat, long info."
      ]
    },
    {
      "cell_type": "code",
      "execution_count": 56,
      "metadata": {},
      "outputs": [
        {
          "data": {
            "text/html": [
              "<div>\n",
              "<style scoped>\n",
              "    .dataframe tbody tr th:only-of-type {\n",
              "        vertical-align: middle;\n",
              "    }\n",
              "\n",
              "    .dataframe tbody tr th {\n",
              "        vertical-align: top;\n",
              "    }\n",
              "\n",
              "    .dataframe thead th {\n",
              "        text-align: right;\n",
              "    }\n",
              "</style>\n",
              "<table border=\"1\" class=\"dataframe\">\n",
              "  <thead>\n",
              "    <tr style=\"text-align: right;\">\n",
              "      <th></th>\n",
              "      <th>city_state</th>\n",
              "      <th>buyer_city_state_lat</th>\n",
              "      <th>buyer_city_state_long</th>\n",
              "      <th>buyer_city_state_location</th>\n",
              "    </tr>\n",
              "  </thead>\n",
              "  <tbody>\n",
              "    <tr>\n",
              "      <th>0</th>\n",
              "      <td>Medford, NY</td>\n",
              "      <td>40.817599</td>\n",
              "      <td>-73.000107</td>\n",
              "      <td>(40.8175985, -73.0001068)</td>\n",
              "    </tr>\n",
              "    <tr>\n",
              "      <th>1</th>\n",
              "      <td>Norfolk, VA</td>\n",
              "      <td>36.844835</td>\n",
              "      <td>-76.286400</td>\n",
              "      <td>(36.8448348, -76.2863999)</td>\n",
              "    </tr>\n",
              "    <tr>\n",
              "      <th>2</th>\n",
              "      <td>Oakton, VA</td>\n",
              "      <td>38.896729</td>\n",
              "      <td>-77.298697</td>\n",
              "      <td>(38.896729, -77.29869697995693)</td>\n",
              "    </tr>\n",
              "    <tr>\n",
              "      <th>3</th>\n",
              "      <td>Moss Point, MS</td>\n",
              "      <td>30.411588</td>\n",
              "      <td>-88.534460</td>\n",
              "      <td>(30.4115881, -88.5344601)</td>\n",
              "    </tr>\n",
              "    <tr>\n",
              "      <th>4</th>\n",
              "      <td>Freeport, ME</td>\n",
              "      <td>43.857307</td>\n",
              "      <td>-70.103760</td>\n",
              "      <td>(43.857307, -70.10376)</td>\n",
              "    </tr>\n",
              "  </tbody>\n",
              "</table>\n",
              "</div>"
            ],
            "text/plain": [
              "       city_state  buyer_city_state_lat  buyer_city_state_long  \\\n",
              "0     Medford, NY             40.817599             -73.000107   \n",
              "1     Norfolk, VA             36.844835             -76.286400   \n",
              "2      Oakton, VA             38.896729             -77.298697   \n",
              "3  Moss Point, MS             30.411588             -88.534460   \n",
              "4    Freeport, ME             43.857307             -70.103760   \n",
              "\n",
              "         buyer_city_state_location  \n",
              "0        (40.8175985, -73.0001068)  \n",
              "1        (36.8448348, -76.2863999)  \n",
              "2  (38.896729, -77.29869697995693)  \n",
              "3        (30.4115881, -88.5344601)  \n",
              "4           (43.857307, -70.10376)  "
            ]
          },
          "execution_count": 56,
          "metadata": {},
          "output_type": "execute_result"
        }
      ],
      "source": [
        "# retrieve geocode by city state\n",
        "df_buyer_city_state = pd.read_csv('../data/new_home_coords.csv')\n",
        "df_buyer_city_state.rename(\n",
        "    columns={\n",
        "        \"address\": \"city_state\", \n",
        "        \"lat_home\":\"buyer_city_state_lat\",\n",
        "        \"long_home\":\"buyer_city_state_long\"},\n",
        "    inplace=True\n",
        "    )\n",
        "df_buyer_city_state[\"buyer_city_state_location\"] = df_buyer_city_state[\n",
        "    [\"buyer_city_state_lat\", \"buyer_city_state_long\"]].apply(tuple, axis=1)\n",
        "df_buyer_city_state.head()"
      ]
    },
    {
      "cell_type": "code",
      "execution_count": 57,
      "metadata": {},
      "outputs": [],
      "source": [
        "# add field for combining with city-state dataset\n",
        "df_locs[\"city_state\"] = df_locs[\"city\"] +\", \" + df_locs[\"state\"]"
      ]
    },
    {
      "cell_type": "code",
      "execution_count": 60,
      "metadata": {},
      "outputs": [
        {
          "data": {
            "text/html": [
              "<div>\n",
              "<style scoped>\n",
              "    .dataframe tbody tr th:only-of-type {\n",
              "        vertical-align: middle;\n",
              "    }\n",
              "\n",
              "    .dataframe tbody tr th {\n",
              "        vertical-align: top;\n",
              "    }\n",
              "\n",
              "    .dataframe thead th {\n",
              "        text-align: right;\n",
              "    }\n",
              "</style>\n",
              "<table border=\"1\" class=\"dataframe\">\n",
              "  <thead>\n",
              "    <tr style=\"text-align: right;\">\n",
              "      <th></th>\n",
              "      <th>trans_num</th>\n",
              "      <th>is_fraud</th>\n",
              "      <th>cc_num</th>\n",
              "      <th>buyer_lat</th>\n",
              "      <th>buyer_long</th>\n",
              "      <th>merch_lat</th>\n",
              "      <th>merch_long</th>\n",
              "      <th>street</th>\n",
              "      <th>city</th>\n",
              "      <th>state</th>\n",
              "      <th>zip</th>\n",
              "      <th>buyer_location</th>\n",
              "      <th>merchant_location</th>\n",
              "      <th>distance_buyer_merch</th>\n",
              "      <th>city_state</th>\n",
              "      <th>buyer_city_state_lat</th>\n",
              "      <th>buyer_city_state_long</th>\n",
              "      <th>buyer_city_state_location</th>\n",
              "    </tr>\n",
              "  </thead>\n",
              "  <tbody>\n",
              "    <tr>\n",
              "      <th>0</th>\n",
              "      <td>0b242abb623afc578575680df30655b9</td>\n",
              "      <td>0</td>\n",
              "      <td>2703186189652095</td>\n",
              "      <td>36.0788</td>\n",
              "      <td>-81.1781</td>\n",
              "      <td>36.011293</td>\n",
              "      <td>-82.048315</td>\n",
              "      <td>561 Perry Cove</td>\n",
              "      <td>Moravian Falls</td>\n",
              "      <td>NC</td>\n",
              "      <td>28654</td>\n",
              "      <td>(36.0788, -81.1781)</td>\n",
              "      <td>(36.011293, -82.048315)</td>\n",
              "      <td>48.84</td>\n",
              "      <td>Moravian Falls, NC</td>\n",
              "      <td>36.102686</td>\n",
              "      <td>-81.181582</td>\n",
              "      <td>(36.1026865, -81.18158238008564)</td>\n",
              "    </tr>\n",
              "    <tr>\n",
              "      <th>1</th>\n",
              "      <td>1f76529f8574734946361c461b024d99</td>\n",
              "      <td>0</td>\n",
              "      <td>630423337322</td>\n",
              "      <td>48.8878</td>\n",
              "      <td>-118.2105</td>\n",
              "      <td>49.159047</td>\n",
              "      <td>-118.186462</td>\n",
              "      <td>43039 Riley Greens Suite 393</td>\n",
              "      <td>Orient</td>\n",
              "      <td>WA</td>\n",
              "      <td>99160</td>\n",
              "      <td>(48.8878, -118.2105)</td>\n",
              "      <td>(49.159047, -118.186462)</td>\n",
              "      <td>18.77</td>\n",
              "      <td>Orient, WA</td>\n",
              "      <td>41.203103</td>\n",
              "      <td>-94.416518</td>\n",
              "      <td>(41.2031032, -94.4165181)</td>\n",
              "    </tr>\n",
              "    <tr>\n",
              "      <th>2</th>\n",
              "      <td>a1a22d70485983eac12b5b88dad1cf95</td>\n",
              "      <td>0</td>\n",
              "      <td>38859492057661</td>\n",
              "      <td>42.1808</td>\n",
              "      <td>-112.2620</td>\n",
              "      <td>43.150704</td>\n",
              "      <td>-112.154481</td>\n",
              "      <td>594 White Dale Suite 530</td>\n",
              "      <td>Malad City</td>\n",
              "      <td>ID</td>\n",
              "      <td>83252</td>\n",
              "      <td>(42.1808, -112.262)</td>\n",
              "      <td>(43.150704, -112.154481)</td>\n",
              "      <td>67.24</td>\n",
              "      <td>Malad City, ID</td>\n",
              "      <td>42.191587</td>\n",
              "      <td>-112.250798</td>\n",
              "      <td>(42.1915872, -112.250798)</td>\n",
              "    </tr>\n",
              "    <tr>\n",
              "      <th>3</th>\n",
              "      <td>6b849c168bdad6f867558c3793159a81</td>\n",
              "      <td>0</td>\n",
              "      <td>3534093764340240</td>\n",
              "      <td>46.2306</td>\n",
              "      <td>-112.1138</td>\n",
              "      <td>47.034331</td>\n",
              "      <td>-112.561071</td>\n",
              "      <td>9443 Cynthia Court Apt. 038</td>\n",
              "      <td>Boulder</td>\n",
              "      <td>MT</td>\n",
              "      <td>59632</td>\n",
              "      <td>(46.2306, -112.1138)</td>\n",
              "      <td>(47.034331, -112.561071)</td>\n",
              "      <td>59.45</td>\n",
              "      <td>Boulder, MT</td>\n",
              "      <td>46.236595</td>\n",
              "      <td>-112.120834</td>\n",
              "      <td>(46.236595, -112.120834)</td>\n",
              "    </tr>\n",
              "    <tr>\n",
              "      <th>4</th>\n",
              "      <td>a41d7549acf90789359a9aa5346dcb46</td>\n",
              "      <td>0</td>\n",
              "      <td>375534208663984</td>\n",
              "      <td>38.4207</td>\n",
              "      <td>-79.4629</td>\n",
              "      <td>38.674999</td>\n",
              "      <td>-78.632459</td>\n",
              "      <td>408 Bradley Rest</td>\n",
              "      <td>Doe Hill</td>\n",
              "      <td>VA</td>\n",
              "      <td>24433</td>\n",
              "      <td>(38.4207, -79.4629)</td>\n",
              "      <td>(38.674999, -78.632459)</td>\n",
              "      <td>48.19</td>\n",
              "      <td>Doe Hill, VA</td>\n",
              "      <td>38.387066</td>\n",
              "      <td>-79.520324</td>\n",
              "      <td>(38.3870661, -79.5203237)</td>\n",
              "    </tr>\n",
              "  </tbody>\n",
              "</table>\n",
              "</div>"
            ],
            "text/plain": [
              "                          trans_num  is_fraud            cc_num  buyer_lat  \\\n",
              "0  0b242abb623afc578575680df30655b9         0  2703186189652095    36.0788   \n",
              "1  1f76529f8574734946361c461b024d99         0      630423337322    48.8878   \n",
              "2  a1a22d70485983eac12b5b88dad1cf95         0    38859492057661    42.1808   \n",
              "3  6b849c168bdad6f867558c3793159a81         0  3534093764340240    46.2306   \n",
              "4  a41d7549acf90789359a9aa5346dcb46         0   375534208663984    38.4207   \n",
              "\n",
              "   buyer_long  merch_lat  merch_long                        street  \\\n",
              "0    -81.1781  36.011293  -82.048315                561 Perry Cove   \n",
              "1   -118.2105  49.159047 -118.186462  43039 Riley Greens Suite 393   \n",
              "2   -112.2620  43.150704 -112.154481      594 White Dale Suite 530   \n",
              "3   -112.1138  47.034331 -112.561071   9443 Cynthia Court Apt. 038   \n",
              "4    -79.4629  38.674999  -78.632459              408 Bradley Rest   \n",
              "\n",
              "             city state    zip        buyer_location  \\\n",
              "0  Moravian Falls    NC  28654   (36.0788, -81.1781)   \n",
              "1          Orient    WA  99160  (48.8878, -118.2105)   \n",
              "2      Malad City    ID  83252   (42.1808, -112.262)   \n",
              "3         Boulder    MT  59632  (46.2306, -112.1138)   \n",
              "4        Doe Hill    VA  24433   (38.4207, -79.4629)   \n",
              "\n",
              "          merchant_location  distance_buyer_merch          city_state  \\\n",
              "0   (36.011293, -82.048315)                 48.84  Moravian Falls, NC   \n",
              "1  (49.159047, -118.186462)                 18.77          Orient, WA   \n",
              "2  (43.150704, -112.154481)                 67.24      Malad City, ID   \n",
              "3  (47.034331, -112.561071)                 59.45         Boulder, MT   \n",
              "4   (38.674999, -78.632459)                 48.19        Doe Hill, VA   \n",
              "\n",
              "   buyer_city_state_lat  buyer_city_state_long  \\\n",
              "0             36.102686             -81.181582   \n",
              "1             41.203103             -94.416518   \n",
              "2             42.191587            -112.250798   \n",
              "3             46.236595            -112.120834   \n",
              "4             38.387066             -79.520324   \n",
              "\n",
              "          buyer_city_state_location  \n",
              "0  (36.1026865, -81.18158238008564)  \n",
              "1         (41.2031032, -94.4165181)  \n",
              "2         (42.1915872, -112.250798)  \n",
              "3          (46.236595, -112.120834)  \n",
              "4         (38.3870661, -79.5203237)  "
            ]
          },
          "execution_count": 60,
          "metadata": {},
          "output_type": "execute_result"
        }
      ],
      "source": [
        "df_locs.head()"
      ]
    },
    {
      "cell_type": "code",
      "execution_count": 59,
      "metadata": {},
      "outputs": [],
      "source": [
        "# Merge in the city_state based location data\n",
        "df_locs = pd.merge( \n",
        "    left=df_locs, \n",
        "    right=df_buyer_city_state,\n",
        "    how=\"left\",\n",
        "    left_on=\"city_state\",\n",
        "    right_on=\"city_state\")"
      ]
    },
    {
      "cell_type": "code",
      "execution_count": 62,
      "metadata": {},
      "outputs": [],
      "source": [
        "# distance between buyer's city-state loc and merch loc\n",
        "df_locs[\"distance_buyer_city_state_merch\"] = df_locs.apply(\n",
        "    lambda x: calc_distance(\n",
        "        x[\"buyer_city_state_location\"],\n",
        "        x[\"merchant_location\"]\n",
        "    ), \n",
        "    axis=1\n",
        ")"
      ]
    },
    {
      "cell_type": "code",
      "execution_count": 65,
      "metadata": {},
      "outputs": [
        {
          "data": {
            "text/plain": [
              "array([[<Axes: title={'center': 'distance_buyer_merch'}>,\n",
              "        <Axes: title={'center': 'distance_buyer_city_state_merch'}>]],\n",
              "      dtype=object)"
            ]
          },
          "execution_count": 65,
          "metadata": {},
          "output_type": "execute_result"
        },
        {
          "data": {
            "image/png": "[encoded data removed]",
            "text/plain": [
              "<Figure size 1200x500 with 2 Axes>"
            ]
          },
          "metadata": {},
          "output_type": "display_data"
        }
      ],
      "source": [
        "# histogram comparison\n",
        "fig = plt.figure(figsize=(12,5))\n",
        "ax = fig.gca()\n",
        "df_locs[[\"distance_buyer_merch\", \"distance_buyer_city_state_merch\"]].hist(ax=ax)"
      ]
    },
    {
      "cell_type": "code",
      "execution_count": 72,
      "metadata": {},
      "outputs": [
        {
          "data": {
            "text/plain": [
              "Text(0.5, 1.0, 'Correlation Heatmap')"
            ]
          },
          "execution_count": 72,
          "metadata": {},
          "output_type": "execute_result"
        },
        {
          "data": {
            "image/png": "[encoded data removed]",
            "text/plain": [
              "<Figure size 800x500 with 2 Axes>"
            ]
          },
          "metadata": {},
          "output_type": "display_data"
        }
      ],
      "source": [
        "plt.rcParams['figure.figsize'] = (8, 5)\n",
        "\n",
        "dist_corr = df_locs[\n",
        "    [\n",
        "        \"is_fraud\", \n",
        "        \"distance_buyer_merch\",\n",
        "        \"distance_buyer_city_state_merch\", \n",
        "        \"buyer_lat\", \n",
        "        \"buyer_city_state_lat\",\n",
        "        \"buyer_long\",\n",
        "        \"buyer_city_state_long\",\n",
        "        \"merch_lat\", \n",
        "        \"merch_long\",\n",
        "    ]\n",
        "].corr()\n",
        "# mask diagonal and upper triangle\n",
        "mask = np.triu(np.ones_like(dist_corr, dtype=bool))\n",
        "heatmap = sns.heatmap(\n",
        "    dist_corr, \n",
        "    vmin=-1.0, \n",
        "    vmax=1.0, \n",
        "    cmap=\"coolwarm\",\n",
        "    mask=mask,\n",
        "    annot=True)\n",
        "heatmap.set_title(\"Correlation Heatmap\")"
      ]
    },
    {
      "cell_type": "markdown",
      "metadata": {},
      "source": [
        "It doesn't look like our engineered distance feature is going to be a meaningful factor in determining fraud."
      ]
    },
    {
      "cell_type": "code",
      "execution_count": null,
      "metadata": {},
      "outputs": [],
      "source": []
    },
    {
      "cell_type": "markdown",
      "metadata": {},
      "source": [
        "### Other things to consider\n"
      ]
    },
    {
      "cell_type": "markdown",
      "metadata": {},
      "source": [
        "#### Alternate Geocoding Libraries\n",
        "The [pgeocode](https://pypi.org/project/pgeocode/) is another library useful for geocoding.  In particular, you can use postal code as the basis of geocoding, as seen in the example below.\n",
        "\n",
        "Commercially, the [Google Maps API](https://developers.google.com/maps) is an good mapping and geocoding option.  Possibility to add distance measured in time or driving distances instead of haversine distance.\n",
        "\n"
      ]
    },
    {
      "cell_type": "code",
      "execution_count": 47,
      "metadata": {},
      "outputs": [
        {
          "data": {
            "text/plain": [
              "postal_code          61335\n",
              "country_code            US\n",
              "place_name         Mc Nabb\n",
              "state_name        Illinois\n",
              "state_code              IL\n",
              "county_name         Putnam\n",
              "county_code          155.0\n",
              "community_name         NaN\n",
              "community_code         NaN\n",
              "latitude            41.173\n",
              "longitude         -89.2187\n",
              "accuracy               1.0\n",
              "Name: 0, dtype: object"
            ]
          },
          "execution_count": 47,
          "metadata": {},
          "output_type": "execute_result"
        }
      ],
      "source": [
        "import pgeocode\n",
        "nomi = pgeocode.Nominatim(country=\"us\")\n",
        "nomi.query_postal_code(\"61335\")"
      ]
    },
    {
      "cell_type": "markdown",
      "metadata": {},
      "source": [
        "#### Binning\n",
        "May be there is value in binning the distance as an engineered factor to see if there are groups of distances that are a meaningful factor in detecting fraud (i.e. > 100 miles may be more correlated than distance in general)  "
      ]
    },
    {
      "cell_type": "code",
      "execution_count": null,
      "metadata": {},
      "outputs": [],
      "source": [
        "bins = [0,25,50,75,100]\n",
        "bin_labels = [1,2,3,4]\n",
        "df_locs[\"bin_dist_buyer_merch\"] = pd.cut(df_locs[\"distance_buyer_merch\"], bins=bins)\n",
        "df_locs[\"bin_label_dist_buyer_merch\"] = pd.cut(df_locs[\"distance_buyer_merch\"], bins=bins, labels=bin_labels)\n",
        "\n",
        "df_locs[[\"distance_buyer_merch\",\"bin_dist_buyer_merch\",\"bin_label_dist_buyer_merch\"]].head()\n",
        "\n",
        "df_locs[\"bin_label_dist_buyer_merch\"] = df_locs[\"bin_label_dist_buyer_merch\"].astype(int)"
      ]
    },
    {
      "cell_type": "markdown",
      "metadata": {},
      "source": [
        "#### Libraries to evaluate categorical feature correlation\n",
        "Libraries like dython allow for quick evaluation of categorical data in correlation matrix.  Review this [kaggle](https://www.kaggle.com/code/kagancatan/categorical-variables-correlation-using-dython) article for more info."
      ]
    },
    {
      "cell_type": "code",
      "execution_count": null,
      "metadata": {},
      "outputs": [],
      "source": [
        "from dython.nominal import (identify_nominal_columns, associations)"
      ]
    },
    {
      "cell_type": "code",
      "execution_count": 85,
      "metadata": {
        "id": "1rc8XKuXg7-f"
      },
      "outputs": [],
      "source": [
        "df_locs_w_catigoricals = df_locs.merge(\n",
        "    df_train[[\"trans_num\",\"category\", \"gender\", \"job\"]],\n",
        "    on=\"trans_num\",\n",
        "    how=\"inner\"\n",
        ")\n",
        "df_locs_w_catigoricals.drop(\n",
        "    columns=[\n",
        "        \"trans_num\",\n",
        "        \"cc_num\",\n",
        "        \"street\",\n",
        "        \"buyer_location\", \n",
        "        \"merchant_location\",\n",
        "        \"buyer_city_state_location\",\n",
        "        \"city_state\",\n",
        "    ],\n",
        "    inplace=True\n",
        ")"
      ]
    },
    {
      "cell_type": "code",
      "execution_count": null,
      "metadata": {},
      "outputs": [],
      "source": [
        "df_locs_w_catigoricals.info()"
      ]
    },
    {
      "cell_type": "code",
      "execution_count": 87,
      "metadata": {},
      "outputs": [
        {
          "data": {
            "text/plain": [
              "['city', 'state', 'category', 'gender', 'job']"
            ]
          },
          "execution_count": 87,
          "metadata": {},
          "output_type": "execute_result"
        }
      ],
      "source": [
        "categorical_features=identify_nominal_columns(df_locs_w_catigoricals)\n",
        "categorical_features"
      ]
    },
    {
      "cell_type": "code",
      "execution_count": 88,
      "metadata": {
        "colab": {
          "base_uri": "https://localhost:8080/",
          "height": 1000
        },
        "id": "s53rffUMYZQM",
        "outputId": "aae0a5cc-d382-4950-f7ac-4a4e5886f252"
      },
      "outputs": [
        {
          "data": {
            "image/png": "[encoded data removed]",
            "text/plain": [
              "<Figure size 1000x1000 with 2 Axes>"
            ]
          },
          "metadata": {},
          "output_type": "display_data"
        },
        {
          "data": {
            "text/plain": [
              "{'corr':                                  is_fraud  buyer_lat  buyer_long  merch_lat  \\\n",
              " is_fraud                         1.000000   0.001894    0.001721   0.001741   \n",
              " buyer_lat                        0.001894   1.000000   -0.015533   0.993592   \n",
              " buyer_long                       0.001721  -0.015533    1.000000  -0.015452   \n",
              " merch_lat                        0.001741   0.993592   -0.015452   1.000000   \n",
              " merch_long                       0.001721  -0.015509    0.999120  -0.015431   \n",
              " city                             0.284260   0.985100    0.982884   0.978752   \n",
              " state                            0.037969   0.971118    0.993326   0.964924   \n",
              " zip                             -0.002162  -0.114290   -0.909732  -0.113561   \n",
              " distance_buyer_merch             0.000403  -0.072634    0.004058  -0.072662   \n",
              " buyer_city_state_lat             0.001484   0.926120   -0.000428   0.920194   \n",
              " buyer_city_state_long            0.000176   0.008000    0.793683   0.007928   \n",
              " distance_buyer_city_state_merch -0.000498   0.069436    0.012883   0.068938   \n",
              " category                         0.070725   0.024163    0.011175   0.024021   \n",
              " gender                           0.007642   0.042935    0.050404   0.042645   \n",
              " job                              0.173795   0.729370    0.740198   0.724645   \n",
              " \n",
              "                                  merch_long      city     state       zip  \\\n",
              " is_fraud                           0.001721  0.284260  0.037969 -0.002162   \n",
              " buyer_lat                         -0.015509  0.985100  0.971118 -0.114290   \n",
              " buyer_long                         0.999120  0.982884  0.993326 -0.909732   \n",
              " merch_lat                         -0.015431  0.978752  0.964924 -0.113561   \n",
              " merch_long                         1.000000  0.982027  0.992454 -0.908924   \n",
              " city                               0.982027  1.000000  0.973491  0.982964   \n",
              " state                              0.992454  0.973491  1.000000  0.999339   \n",
              " zip                               -0.908924  0.982964  0.999339  1.000000   \n",
              " distance_buyer_merch               0.004083  0.076132  0.071584  0.006183   \n",
              " buyer_city_state_lat              -0.000411  0.987405  0.913897 -0.136843   \n",
              " buyer_city_state_long              0.792912  0.991235  0.812312 -0.730627   \n",
              " distance_buyer_city_state_merch    0.012760  0.990615  0.342014 -0.013194   \n",
              " category                           0.011143  0.063110  0.019034  0.011194   \n",
              " gender                             0.050350  0.962810  0.256225  0.065951   \n",
              " job                                0.739563  0.960163  0.738635  0.738487   \n",
              " \n",
              "                                  distance_buyer_merch  buyer_city_state_lat  \\\n",
              " is_fraud                                     0.000403              0.001484   \n",
              " buyer_lat                                   -0.072634              0.926120   \n",
              " buyer_long                                   0.004058             -0.000428   \n",
              " merch_lat                                   -0.072662              0.920194   \n",
              " merch_long                                   0.004083             -0.000411   \n",
              " city                                         0.076132              0.987405   \n",
              " state                                        0.071584              0.913897   \n",
              " zip                                          0.006183             -0.136843   \n",
              " distance_buyer_merch                         1.000000             -0.067082   \n",
              " buyer_city_state_lat                        -0.067082              1.000000   \n",
              " buyer_city_state_long                        0.001726              0.003043   \n",
              " distance_buyer_city_state_merch              0.026787             -0.037330   \n",
              " category                                     0.003768              0.023980   \n",
              " gender                                       0.002394              0.026546   \n",
              " job                                          0.056659              0.721180   \n",
              " \n",
              "                                  buyer_city_state_long  \\\n",
              " is_fraud                                      0.000176   \n",
              " buyer_lat                                     0.008000   \n",
              " buyer_long                                    0.793683   \n",
              " merch_lat                                     0.007928   \n",
              " merch_long                                    0.792912   \n",
              " city                                          0.991235   \n",
              " state                                         0.812312   \n",
              " zip                                          -0.730627   \n",
              " distance_buyer_merch                          0.001726   \n",
              " buyer_city_state_lat                          0.003043   \n",
              " buyer_city_state_long                         1.000000   \n",
              " distance_buyer_city_state_merch               0.560196   \n",
              " category                                      0.012298   \n",
              " gender                                        0.048525   \n",
              " job                                           0.793688   \n",
              " \n",
              "                                  distance_buyer_city_state_merch  category  \\\n",
              " is_fraud                                               -0.000498  0.070725   \n",
              " buyer_lat                                               0.069436  0.024163   \n",
              " buyer_long                                              0.012883  0.011175   \n",
              " merch_lat                                               0.068938  0.024021   \n",
              " merch_long                                              0.012760  0.011143   \n",
              " city                                                    0.990615  0.063110   \n",
              " state                                                   0.342014  0.019034   \n",
              " zip                                                    -0.013194  0.011194   \n",
              " distance_buyer_merch                                    0.026787  0.003768   \n",
              " buyer_city_state_lat                                   -0.037330  0.023980   \n",
              " buyer_city_state_long                                   0.560196  0.012298   \n",
              " distance_buyer_city_state_merch                         1.000000  0.009236   \n",
              " category                                                0.009236  1.000000   \n",
              " gender                                                  0.046735  0.053555   \n",
              " job                                                     0.826471  0.048492   \n",
              " \n",
              "                                    gender       job  \n",
              " is_fraud                         0.007642  0.173795  \n",
              " buyer_lat                        0.042935  0.729370  \n",
              " buyer_long                       0.050404  0.740198  \n",
              " merch_lat                        0.042645  0.724645  \n",
              " merch_long                       0.050350  0.739563  \n",
              " city                             0.962810  0.960163  \n",
              " state                            0.256225  0.738635  \n",
              " zip                              0.065951  0.738487  \n",
              " distance_buyer_merch             0.002394  0.056659  \n",
              " buyer_city_state_lat             0.026546  0.721180  \n",
              " buyer_city_state_long            0.048525  0.793688  \n",
              " distance_buyer_city_state_merch  0.046735  0.826471  \n",
              " category                         0.053555  0.048492  \n",
              " gender                           1.000000  0.747171  \n",
              " job                              0.747171  1.000000  ,\n",
              " 'ax': <Axes: >}"
            ]
          },
          "execution_count": 88,
          "metadata": {},
          "output_type": "execute_result"
        }
      ],
      "source": [
        "associations(df_locs_w_catigoricals, cmap='coolwarm', vmax=1.0, vmin=-1.0, fmt='.2f', annot=True, figsize=(10,10))"
      ]
    },
    {
      "cell_type": "markdown",
      "metadata": {},
      "source": [
        "#### Tests for normality (gaussian distribution)\n",
        "The following examples are tests of normality.  This Medium [article](https://towardsdatascience.com/normality-tests-in-python-31e04aa4f411) is a more in depth look at normality tests.  "
      ]
    },
    {
      "cell_type": "code",
      "execution_count": 66,
      "metadata": {},
      "outputs": [
        {
          "name": "stdout",
          "output_type": "stream",
          "text": [
            "stat = 98.713%, p-value = 0.00000\n",
            "Probably not normal (Gaussian)\n"
          ]
        }
      ],
      "source": [
        "\n",
        "import math\n",
        "from scipy.stats import shapiro\n",
        "\n",
        "stat, p = shapiro(df_locs[\"distance_buyer_merch\"])\n",
        "print(f\"stat = {stat:.3%}, p-value = {p:.5f}\")\n",
        "if p > 0.05:\n",
        "    print(\"Probably normal (Gaussian)\")\n",
        "else:\n",
        "    print(\"Probably not normal (Gaussian)\")"
      ]
    },
    {
      "cell_type": "code",
      "execution_count": 23,
      "metadata": {},
      "outputs": [
        {
          "data": {
            "image/png": "[encoded data removed]",
            "text/plain": [
              "<Figure size 500x500 with 1 Axes>"
            ]
          },
          "metadata": {},
          "output_type": "display_data"
        }
      ],
      "source": [
        "ax = sns.boxplot(x=df_locs[\"distance_buyer_merch\"])\n"
      ]
    },
    {
      "cell_type": "code",
      "execution_count": 25,
      "metadata": {},
      "outputs": [
        {
          "data": {
            "image/png": "[encoded data removed]",
            "text/plain": [
              "<Figure size 500x500 with 1 Axes>"
            ]
          },
          "metadata": {},
          "output_type": "display_data"
        }
      ],
      "source": [
        "\n",
        "import scipy.stats as stats\n",
        "import pylab\n",
        "\n",
        "stats.probplot(df_locs[\"distance_buyer_merch\"], dist=\"norm\", plot=pylab)\n",
        "pylab.show()"
      ]
    },
    {
      "cell_type": "code",
      "execution_count": null,
      "metadata": {},
      "outputs": [],
      "source": []
    }
  ],
  "metadata": {
    "colab": {
      "collapsed_sections": [
        "gcysoqbxx1Fc"
      ],
      "provenance": [],
      "toc_visible": true
    },
    "kernelspec": {
      "display_name": "Python 3",
      "name": "python3"
    },
    "language_info": {
      "codemirror_mode": {
        "name": "ipython",
        "version": 3
      },
      "file_extension": ".py",
      "mimetype": "text/x-python",
      "name": "python",
      "nbconvert_exporter": "python",
      "pygments_lexer": "ipython3",
      "version": "3.11.3"
    },
    "widgets": {
      "application/vnd.jupyter.widget-state+json": {
        "03cc1c495c104ef1941305ad14006fb3": {
          "model_module": "@jupyter-widgets/controls",
          "model_module_version": "1.5.0",
          "model_name": "DescriptionStyleModel",
          "state": {
            "_model_module": "@jupyter-widgets/controls",
            "_model_module_version": "1.5.0",
            "_model_name": "DescriptionStyleModel",
            "_view_count": null,
            "_view_module": "@jupyter-widgets/base",
            "_view_module_version": "1.2.0",
            "_view_name": "StyleView",
            "description_width": ""
          }
        },
        "0564639af3584b4ba4549046f2bd8cd3": {
          "model_module": "@jupyter-widgets/controls",
          "model_module_version": "1.5.0",
          "model_name": "HBoxModel",
          "state": {
            "_dom_classes": [],
            "_model_module": "@jupyter-widgets/controls",
            "_model_module_version": "1.5.0",
            "_model_name": "HBoxModel",
            "_view_count": null,
            "_view_module": "@jupyter-widgets/controls",
            "_view_module_version": "1.5.0",
            "_view_name": "HBoxView",
            "box_style": "",
            "children": [
              "IPY_MODEL_8ddd681b5a5c4960be1ad2867bc7c961",
              "IPY_MODEL_4e0d2cdc0a124ded92e56ecca4af7703",
              "IPY_MODEL_ad424f0a30434d58b101e6d912636937"
            ],
            "layout": "IPY_MODEL_c3e993e47fe046d9b33bd720eac7231a"
          }
        },
        "1cee0aeee2e84845ae4de916ff71bc55": {
          "model_module": "@jupyter-widgets/controls",
          "model_module_version": "1.5.0",
          "model_name": "HBoxModel",
          "state": {
            "_dom_classes": [],
            "_model_module": "@jupyter-widgets/controls",
            "_model_module_version": "1.5.0",
            "_model_name": "HBoxModel",
            "_view_count": null,
            "_view_module": "@jupyter-widgets/controls",
            "_view_module_version": "1.5.0",
            "_view_name": "HBoxView",
            "box_style": "",
            "children": [
              "IPY_MODEL_e0af691a32bd4d7f8315a4773afe8efe",
              "IPY_MODEL_7cdba9ea00974a3a97908ffb7dd81e55",
              "IPY_MODEL_aaa383bd5ddc479db95f8118bcce828b"
            ],
            "layout": "IPY_MODEL_a0b1ee811d0049959602e4e57974d8c1"
          }
        },
        "28931d39ffc94dd6a71347857cac1bc2": {
          "model_module": "@jupyter-widgets/base",
          "model_module_version": "1.2.0",
          "model_name": "LayoutModel",
          "state": {
            "_model_module": "@jupyter-widgets/base",
            "_model_module_version": "1.2.0",
            "_model_name": "LayoutModel",
            "_view_count": null,
            "_view_module": "@jupyter-widgets/base",
            "_view_module_version": "1.2.0",
            "_view_name": "LayoutView",
            "align_content": null,
            "align_items": null,
            "align_self": null,
            "border": null,
            "bottom": null,
            "display": null,
            "flex": null,
            "flex_flow": null,
            "grid_area": null,
            "grid_auto_columns": null,
            "grid_auto_flow": null,
            "grid_auto_rows": null,
            "grid_column": null,
            "grid_gap": null,
            "grid_row": null,
            "grid_template_areas": null,
            "grid_template_columns": null,
            "grid_template_rows": null,
            "height": null,
            "justify_content": null,
            "justify_items": null,
            "left": null,
            "margin": null,
            "max_height": null,
            "max_width": null,
            "min_height": null,
            "min_width": null,
            "object_fit": null,
            "object_position": null,
            "order": null,
            "overflow": null,
            "overflow_x": null,
            "overflow_y": null,
            "padding": null,
            "right": null,
            "top": null,
            "visibility": null,
            "width": null
          }
        },
        "3c368cd6ae374ddebac5b7a5923e5877": {
          "model_module": "@jupyter-widgets/controls",
          "model_module_version": "1.5.0",
          "model_name": "DescriptionStyleModel",
          "state": {
            "_model_module": "@jupyter-widgets/controls",
            "_model_module_version": "1.5.0",
            "_model_name": "DescriptionStyleModel",
            "_view_count": null,
            "_view_module": "@jupyter-widgets/base",
            "_view_module_version": "1.2.0",
            "_view_name": "StyleView",
            "description_width": ""
          }
        },
        "41fd73ca98bc4d9eaabe831df14f5069": {
          "model_module": "@jupyter-widgets/controls",
          "model_module_version": "1.5.0",
          "model_name": "DescriptionStyleModel",
          "state": {
            "_model_module": "@jupyter-widgets/controls",
            "_model_module_version": "1.5.0",
            "_model_name": "DescriptionStyleModel",
            "_view_count": null,
            "_view_module": "@jupyter-widgets/base",
            "_view_module_version": "1.2.0",
            "_view_name": "StyleView",
            "description_width": ""
          }
        },
        "4bb5e686366a41408cb4e5e784d022e7": {
          "model_module": "@jupyter-widgets/base",
          "model_module_version": "1.2.0",
          "model_name": "LayoutModel",
          "state": {
            "_model_module": "@jupyter-widgets/base",
            "_model_module_version": "1.2.0",
            "_model_name": "LayoutModel",
            "_view_count": null,
            "_view_module": "@jupyter-widgets/base",
            "_view_module_version": "1.2.0",
            "_view_name": "LayoutView",
            "align_content": null,
            "align_items": null,
            "align_self": null,
            "border": null,
            "bottom": null,
            "display": null,
            "flex": null,
            "flex_flow": null,
            "grid_area": null,
            "grid_auto_columns": null,
            "grid_auto_flow": null,
            "grid_auto_rows": null,
            "grid_column": null,
            "grid_gap": null,
            "grid_row": null,
            "grid_template_areas": null,
            "grid_template_columns": null,
            "grid_template_rows": null,
            "height": null,
            "justify_content": null,
            "justify_items": null,
            "left": null,
            "margin": null,
            "max_height": null,
            "max_width": null,
            "min_height": null,
            "min_width": null,
            "object_fit": null,
            "object_position": null,
            "order": null,
            "overflow": null,
            "overflow_x": null,
            "overflow_y": null,
            "padding": null,
            "right": null,
            "top": null,
            "visibility": null,
            "width": null
          }
        },
        "4e0d2cdc0a124ded92e56ecca4af7703": {
          "model_module": "@jupyter-widgets/controls",
          "model_module_version": "1.5.0",
          "model_name": "FloatProgressModel",
          "state": {
            "_dom_classes": [],
            "_model_module": "@jupyter-widgets/controls",
            "_model_module_version": "1.5.0",
            "_model_name": "FloatProgressModel",
            "_view_count": null,
            "_view_module": "@jupyter-widgets/controls",
            "_view_module_version": "1.5.0",
            "_view_name": "ProgressView",
            "bar_style": "success",
            "description": "",
            "description_tooltip": null,
            "layout": "IPY_MODEL_4bb5e686366a41408cb4e5e784d022e7",
            "max": 5,
            "min": 0,
            "orientation": "horizontal",
            "style": "IPY_MODEL_bd04de2f057841beabad0ed9c77aa63f",
            "value": 5
          }
        },
        "592d36544fd148bc9f6503239998cfa3": {
          "model_module": "@jupyter-widgets/base",
          "model_module_version": "1.2.0",
          "model_name": "LayoutModel",
          "state": {
            "_model_module": "@jupyter-widgets/base",
            "_model_module_version": "1.2.0",
            "_model_name": "LayoutModel",
            "_view_count": null,
            "_view_module": "@jupyter-widgets/base",
            "_view_module_version": "1.2.0",
            "_view_name": "LayoutView",
            "align_content": null,
            "align_items": null,
            "align_self": null,
            "border": null,
            "bottom": null,
            "display": null,
            "flex": null,
            "flex_flow": null,
            "grid_area": null,
            "grid_auto_columns": null,
            "grid_auto_flow": null,
            "grid_auto_rows": null,
            "grid_column": null,
            "grid_gap": null,
            "grid_row": null,
            "grid_template_areas": null,
            "grid_template_columns": null,
            "grid_template_rows": null,
            "height": null,
            "justify_content": null,
            "justify_items": null,
            "left": null,
            "margin": null,
            "max_height": null,
            "max_width": null,
            "min_height": null,
            "min_width": null,
            "object_fit": null,
            "object_position": null,
            "order": null,
            "overflow": null,
            "overflow_x": null,
            "overflow_y": null,
            "padding": null,
            "right": null,
            "top": null,
            "visibility": null,
            "width": null
          }
        },
        "77e3f47bc2f6464faabc84e78a739c55": {
          "model_module": "@jupyter-widgets/controls",
          "model_module_version": "1.5.0",
          "model_name": "ProgressStyleModel",
          "state": {
            "_model_module": "@jupyter-widgets/controls",
            "_model_module_version": "1.5.0",
            "_model_name": "ProgressStyleModel",
            "_view_count": null,
            "_view_module": "@jupyter-widgets/base",
            "_view_module_version": "1.2.0",
            "_view_name": "StyleView",
            "bar_color": null,
            "description_width": ""
          }
        },
        "7cdba9ea00974a3a97908ffb7dd81e55": {
          "model_module": "@jupyter-widgets/controls",
          "model_module_version": "1.5.0",
          "model_name": "FloatProgressModel",
          "state": {
            "_dom_classes": [],
            "_model_module": "@jupyter-widgets/controls",
            "_model_module_version": "1.5.0",
            "_model_name": "FloatProgressModel",
            "_view_count": null,
            "_view_module": "@jupyter-widgets/controls",
            "_view_module_version": "1.5.0",
            "_view_name": "ProgressView",
            "bar_style": "danger",
            "description": "",
            "description_tooltip": null,
            "layout": "IPY_MODEL_9044488a4d9749a9961c574d4434cbe7",
            "max": 1,
            "min": 0,
            "orientation": "horizontal",
            "style": "IPY_MODEL_77e3f47bc2f6464faabc84e78a739c55",
            "value": 0
          }
        },
        "819e7ac92a324c529e48681be69dc507": {
          "model_module": "@jupyter-widgets/controls",
          "model_module_version": "1.5.0",
          "model_name": "DescriptionStyleModel",
          "state": {
            "_model_module": "@jupyter-widgets/controls",
            "_model_module_version": "1.5.0",
            "_model_name": "DescriptionStyleModel",
            "_view_count": null,
            "_view_module": "@jupyter-widgets/base",
            "_view_module_version": "1.2.0",
            "_view_name": "StyleView",
            "description_width": ""
          }
        },
        "8ddd681b5a5c4960be1ad2867bc7c961": {
          "model_module": "@jupyter-widgets/controls",
          "model_module_version": "1.5.0",
          "model_name": "HTMLModel",
          "state": {
            "_dom_classes": [],
            "_model_module": "@jupyter-widgets/controls",
            "_model_module_version": "1.5.0",
            "_model_name": "HTMLModel",
            "_view_count": null,
            "_view_module": "@jupyter-widgets/controls",
            "_view_module_version": "1.5.0",
            "_view_name": "HTMLView",
            "description": "",
            "description_tooltip": null,
            "layout": "IPY_MODEL_28931d39ffc94dd6a71347857cac1bc2",
            "placeholder": "​",
            "style": "IPY_MODEL_819e7ac92a324c529e48681be69dc507",
            "value": "Summarize dataset: 100%"
          }
        },
        "9044488a4d9749a9961c574d4434cbe7": {
          "model_module": "@jupyter-widgets/base",
          "model_module_version": "1.2.0",
          "model_name": "LayoutModel",
          "state": {
            "_model_module": "@jupyter-widgets/base",
            "_model_module_version": "1.2.0",
            "_model_name": "LayoutModel",
            "_view_count": null,
            "_view_module": "@jupyter-widgets/base",
            "_view_module_version": "1.2.0",
            "_view_name": "LayoutView",
            "align_content": null,
            "align_items": null,
            "align_self": null,
            "border": null,
            "bottom": null,
            "display": null,
            "flex": null,
            "flex_flow": null,
            "grid_area": null,
            "grid_auto_columns": null,
            "grid_auto_flow": null,
            "grid_auto_rows": null,
            "grid_column": null,
            "grid_gap": null,
            "grid_row": null,
            "grid_template_areas": null,
            "grid_template_columns": null,
            "grid_template_rows": null,
            "height": null,
            "justify_content": null,
            "justify_items": null,
            "left": null,
            "margin": null,
            "max_height": null,
            "max_width": null,
            "min_height": null,
            "min_width": null,
            "object_fit": null,
            "object_position": null,
            "order": null,
            "overflow": null,
            "overflow_x": null,
            "overflow_y": null,
            "padding": null,
            "right": null,
            "top": null,
            "visibility": null,
            "width": null
          }
        },
        "94588d84cbbd4903b64b51f2fb6551e1": {
          "model_module": "@jupyter-widgets/base",
          "model_module_version": "1.2.0",
          "model_name": "LayoutModel",
          "state": {
            "_model_module": "@jupyter-widgets/base",
            "_model_module_version": "1.2.0",
            "_model_name": "LayoutModel",
            "_view_count": null,
            "_view_module": "@jupyter-widgets/base",
            "_view_module_version": "1.2.0",
            "_view_name": "LayoutView",
            "align_content": null,
            "align_items": null,
            "align_self": null,
            "border": null,
            "bottom": null,
            "display": null,
            "flex": null,
            "flex_flow": null,
            "grid_area": null,
            "grid_auto_columns": null,
            "grid_auto_flow": null,
            "grid_auto_rows": null,
            "grid_column": null,
            "grid_gap": null,
            "grid_row": null,
            "grid_template_areas": null,
            "grid_template_columns": null,
            "grid_template_rows": null,
            "height": null,
            "justify_content": null,
            "justify_items": null,
            "left": null,
            "margin": null,
            "max_height": null,
            "max_width": null,
            "min_height": null,
            "min_width": null,
            "object_fit": null,
            "object_position": null,
            "order": null,
            "overflow": null,
            "overflow_x": null,
            "overflow_y": null,
            "padding": null,
            "right": null,
            "top": null,
            "visibility": null,
            "width": null
          }
        },
        "a0b1ee811d0049959602e4e57974d8c1": {
          "model_module": "@jupyter-widgets/base",
          "model_module_version": "1.2.0",
          "model_name": "LayoutModel",
          "state": {
            "_model_module": "@jupyter-widgets/base",
            "_model_module_version": "1.2.0",
            "_model_name": "LayoutModel",
            "_view_count": null,
            "_view_module": "@jupyter-widgets/base",
            "_view_module_version": "1.2.0",
            "_view_name": "LayoutView",
            "align_content": null,
            "align_items": null,
            "align_self": null,
            "border": null,
            "bottom": null,
            "display": null,
            "flex": null,
            "flex_flow": null,
            "grid_area": null,
            "grid_auto_columns": null,
            "grid_auto_flow": null,
            "grid_auto_rows": null,
            "grid_column": null,
            "grid_gap": null,
            "grid_row": null,
            "grid_template_areas": null,
            "grid_template_columns": null,
            "grid_template_rows": null,
            "height": null,
            "justify_content": null,
            "justify_items": null,
            "left": null,
            "margin": null,
            "max_height": null,
            "max_width": null,
            "min_height": null,
            "min_width": null,
            "object_fit": null,
            "object_position": null,
            "order": null,
            "overflow": null,
            "overflow_x": null,
            "overflow_y": null,
            "padding": null,
            "right": null,
            "top": null,
            "visibility": null,
            "width": null
          }
        },
        "aaa383bd5ddc479db95f8118bcce828b": {
          "model_module": "@jupyter-widgets/controls",
          "model_module_version": "1.5.0",
          "model_name": "HTMLModel",
          "state": {
            "_dom_classes": [],
            "_model_module": "@jupyter-widgets/controls",
            "_model_module_version": "1.5.0",
            "_model_name": "HTMLModel",
            "_view_count": null,
            "_view_module": "@jupyter-widgets/controls",
            "_view_module_version": "1.5.0",
            "_view_name": "HTMLView",
            "description": "",
            "description_tooltip": null,
            "layout": "IPY_MODEL_592d36544fd148bc9f6503239998cfa3",
            "placeholder": "​",
            "style": "IPY_MODEL_3c368cd6ae374ddebac5b7a5923e5877",
            "value": " 0/1 [00:01&lt;?, ?it/s]"
          }
        },
        "ad424f0a30434d58b101e6d912636937": {
          "model_module": "@jupyter-widgets/controls",
          "model_module_version": "1.5.0",
          "model_name": "HTMLModel",
          "state": {
            "_dom_classes": [],
            "_model_module": "@jupyter-widgets/controls",
            "_model_module_version": "1.5.0",
            "_model_name": "HTMLModel",
            "_view_count": null,
            "_view_module": "@jupyter-widgets/controls",
            "_view_module_version": "1.5.0",
            "_view_name": "HTMLView",
            "description": "",
            "description_tooltip": null,
            "layout": "IPY_MODEL_c78832464cdb41f191f7316d6bdd3e68",
            "placeholder": "​",
            "style": "IPY_MODEL_03cc1c495c104ef1941305ad14006fb3",
            "value": " 118/118 [02:32&lt;00:00,  1.12it/s, Completed]"
          }
        },
        "bd04de2f057841beabad0ed9c77aa63f": {
          "model_module": "@jupyter-widgets/controls",
          "model_module_version": "1.5.0",
          "model_name": "ProgressStyleModel",
          "state": {
            "_model_module": "@jupyter-widgets/controls",
            "_model_module_version": "1.5.0",
            "_model_name": "ProgressStyleModel",
            "_view_count": null,
            "_view_module": "@jupyter-widgets/base",
            "_view_module_version": "1.2.0",
            "_view_name": "StyleView",
            "bar_color": null,
            "description_width": ""
          }
        },
        "c3e993e47fe046d9b33bd720eac7231a": {
          "model_module": "@jupyter-widgets/base",
          "model_module_version": "1.2.0",
          "model_name": "LayoutModel",
          "state": {
            "_model_module": "@jupyter-widgets/base",
            "_model_module_version": "1.2.0",
            "_model_name": "LayoutModel",
            "_view_count": null,
            "_view_module": "@jupyter-widgets/base",
            "_view_module_version": "1.2.0",
            "_view_name": "LayoutView",
            "align_content": null,
            "align_items": null,
            "align_self": null,
            "border": null,
            "bottom": null,
            "display": null,
            "flex": null,
            "flex_flow": null,
            "grid_area": null,
            "grid_auto_columns": null,
            "grid_auto_flow": null,
            "grid_auto_rows": null,
            "grid_column": null,
            "grid_gap": null,
            "grid_row": null,
            "grid_template_areas": null,
            "grid_template_columns": null,
            "grid_template_rows": null,
            "height": null,
            "justify_content": null,
            "justify_items": null,
            "left": null,
            "margin": null,
            "max_height": null,
            "max_width": null,
            "min_height": null,
            "min_width": null,
            "object_fit": null,
            "object_position": null,
            "order": null,
            "overflow": null,
            "overflow_x": null,
            "overflow_y": null,
            "padding": null,
            "right": null,
            "top": null,
            "visibility": null,
            "width": null
          }
        },
        "c78832464cdb41f191f7316d6bdd3e68": {
          "model_module": "@jupyter-widgets/base",
          "model_module_version": "1.2.0",
          "model_name": "LayoutModel",
          "state": {
            "_model_module": "@jupyter-widgets/base",
            "_model_module_version": "1.2.0",
            "_model_name": "LayoutModel",
            "_view_count": null,
            "_view_module": "@jupyter-widgets/base",
            "_view_module_version": "1.2.0",
            "_view_name": "LayoutView",
            "align_content": null,
            "align_items": null,
            "align_self": null,
            "border": null,
            "bottom": null,
            "display": null,
            "flex": null,
            "flex_flow": null,
            "grid_area": null,
            "grid_auto_columns": null,
            "grid_auto_flow": null,
            "grid_auto_rows": null,
            "grid_column": null,
            "grid_gap": null,
            "grid_row": null,
            "grid_template_areas": null,
            "grid_template_columns": null,
            "grid_template_rows": null,
            "height": null,
            "justify_content": null,
            "justify_items": null,
            "left": null,
            "margin": null,
            "max_height": null,
            "max_width": null,
            "min_height": null,
            "min_width": null,
            "object_fit": null,
            "object_position": null,
            "order": null,
            "overflow": null,
            "overflow_x": null,
            "overflow_y": null,
            "padding": null,
            "right": null,
            "top": null,
            "visibility": null,
            "width": null
          }
        },
        "e0af691a32bd4d7f8315a4773afe8efe": {
          "model_module": "@jupyter-widgets/controls",
          "model_module_version": "1.5.0",
          "model_name": "HTMLModel",
          "state": {
            "_dom_classes": [],
            "_model_module": "@jupyter-widgets/controls",
            "_model_module_version": "1.5.0",
            "_model_name": "HTMLModel",
            "_view_count": null,
            "_view_module": "@jupyter-widgets/controls",
            "_view_module_version": "1.5.0",
            "_view_name": "HTMLView",
            "description": "",
            "description_tooltip": null,
            "layout": "IPY_MODEL_94588d84cbbd4903b64b51f2fb6551e1",
            "placeholder": "​",
            "style": "IPY_MODEL_41fd73ca98bc4d9eaabe831df14f5069",
            "value": "Generate report structure:   0%"
          }
        }
      }
    }
  },
  "nbformat": 4,
  "nbformat_minor": 0
}
