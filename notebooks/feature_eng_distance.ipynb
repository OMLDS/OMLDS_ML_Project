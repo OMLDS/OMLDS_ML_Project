{
  "cells": [
    {
      "cell_type": "markdown",
      "metadata": {
        "id": "7zv90ALyqZhu"
      },
      "source": [
        "## OMLDS End-to-End Machine Learning Project\n",
        "\n",
        "### Kaggle Credit Fraud Detection Dataset\n",
        "### Source: https://www.kaggle.com/datasets/kartik2112/fraud-detection\n",
        "\n",
        "### Date: 09/13/2023"
      ]
    },
    {
      "cell_type": "markdown",
      "metadata": {
        "id": "Eqzcv_8jrRty"
      },
      "source": [
        "#### Objective\n",
        "\n",
        "The main objective in this notebook is creating an engineered feature, distance, based on the provided location data of the buyer and merchant.\n"
      ]
    },
    {
      "cell_type": "markdown",
      "metadata": {
        "id": "cDyB1BymsOHu"
      },
      "source": [
        "#### Feature Engineering steps:\n",
        "\n",
        "1.  Prior to feature engineering it is assumed you've gotten familier with the \n",
        "    data via EDA (exploratory data anaylsis)\n",
        "\n",
        "2.  With latitude and longitude for buyer and merchant in the dataset, it was \n",
        "    reasonable to create a distance calculation.\n",
        "\n",
        "3.  While creating this new feature, we evaluate it again with EDA techniques to\n",
        "    determine if it is a usefule feature and if it leads us to additional \n",
        "    engineered features or different methods of calculation.\n",
        "\n"
      ]
    },
    {
      "cell_type": "code",
      "execution_count": 1,
      "metadata": {
        "id": "mxpYtdFpqXVs"
      },
      "outputs": [],
      "source": [
        "# import libraries\n",
        "import pandas as pd\n",
        "import numpy as np\n",
        "import matplotlib.pyplot as plt\n",
        "import seaborn as sns\n",
        "import warnings\n",
        "import datetime\n",
        "import googlemaps\n",
        "import os \n",
        "from haversine import haversine, Unit\n",
        "from dython.nominal import (identify_nominal_columns, associations)\n",
        "\n",
        "warnings.filterwarnings('ignore')\n",
        "\n",
        "plt.rcParams['figure.figsize'] = (20, 16)"
      ]
    },
    {
      "cell_type": "markdown",
      "metadata": {},
      "source": [
        "### Read in training dataset\n",
        "\n",
        "If from your personal google drive use this code.  You need your google credentials."
      ]
    },
    {
      "cell_type": "code",
      "execution_count": null,
      "metadata": {
        "colab": {
          "base_uri": "https://localhost:8080/"
        },
        "id": "Divuhklwioz1",
        "outputId": "883a8684-ddba-4be5-d254-2813a3bd1a53"
      },
      "outputs": [],
      "source": [
        "from google.colab import drive\n",
        "drive.mount('/content/drive')"
      ]
    },
    {
      "cell_type": "code",
      "execution_count": null,
      "metadata": {},
      "outputs": [],
      "source": [
        "df_raw = pd.read_csv(\n",
        "    '/content/drive/MyDrive/kaggle_credit_fraud_detection/fraudTrain.csv', \n",
        "    index_col=0, \n",
        "    parse_dates = [\"trans_date_trans_time\", \"dob\"]\n",
        ")"
      ]
    },
    {
      "cell_type": "markdown",
      "metadata": {},
      "source": [
        "Or use local copy stored in ../data folder"
      ]
    },
    {
      "cell_type": "code",
      "execution_count": 2,
      "metadata": {
        "colab": {
          "base_uri": "https://localhost:8080/",
          "height": 860
        },
        "id": "qY5qvuDsuDBX",
        "outputId": "5769281b-c03a-40f4-be53-43d4d6d3242e"
      },
      "outputs": [],
      "source": [
        "df_raw = pd.read_csv('../data/fraudTrain.csv', index_col=0, parse_dates = [\"trans_date_trans_time\", \"dob\"])\n",
        "# df_raw"
      ]
    },
    {
      "cell_type": "code",
      "execution_count": 3,
      "metadata": {},
      "outputs": [],
      "source": [
        "# convert the unix_time to datetime\n",
        "df_raw[\"converted_unix_time\"] = pd.to_datetime(df_raw[\"unix_time\"],unit='s')"
      ]
    },
    {
      "cell_type": "code",
      "execution_count": 4,
      "metadata": {
        "colab": {
          "base_uri": "https://localhost:8080/"
        },
        "id": "h-vYzo1cxlZa",
        "outputId": "2b1234fb-aa99-4771-8513-4447e9c148e2"
      },
      "outputs": [
        {
          "name": "stdout",
          "output_type": "stream",
          "text": [
            "<class 'pandas.core.frame.DataFrame'>\n",
            "Int64Index: 1296675 entries, 0 to 1296674\n",
            "Data columns (total 23 columns):\n",
            " #   Column                 Non-Null Count    Dtype         \n",
            "---  ------                 --------------    -----         \n",
            " 0   trans_date_trans_time  1296675 non-null  datetime64[ns]\n",
            " 1   cc_num                 1296675 non-null  int64         \n",
            " 2   merchant               1296675 non-null  object        \n",
            " 3   category               1296675 non-null  object        \n",
            " 4   amt                    1296675 non-null  float64       \n",
            " 5   first                  1296675 non-null  object        \n",
            " 6   last                   1296675 non-null  object        \n",
            " 7   gender                 1296675 non-null  object        \n",
            " 8   street                 1296675 non-null  object        \n",
            " 9   city                   1296675 non-null  object        \n",
            " 10  state                  1296675 non-null  object        \n",
            " 11  zip                    1296675 non-null  int64         \n",
            " 12  lat                    1296675 non-null  float64       \n",
            " 13  long                   1296675 non-null  float64       \n",
            " 14  city_pop               1296675 non-null  int64         \n",
            " 15  job                    1296675 non-null  object        \n",
            " 16  dob                    1296675 non-null  datetime64[ns]\n",
            " 17  trans_num              1296675 non-null  object        \n",
            " 18  unix_time              1296675 non-null  int64         \n",
            " 19  merch_lat              1296675 non-null  float64       \n",
            " 20  merch_long             1296675 non-null  float64       \n",
            " 21  is_fraud               1296675 non-null  int64         \n",
            " 22  converted_unix_time    1296675 non-null  datetime64[ns]\n",
            "dtypes: datetime64[ns](3), float64(5), int64(5), object(10)\n",
            "memory usage: 237.4+ MB\n"
          ]
        }
      ],
      "source": [
        "# data type info\n",
        "df_raw.info()"
      ]
    },
    {
      "cell_type": "markdown",
      "metadata": {
        "id": "7L-zTTn3Syvm"
      },
      "source": [
        "### Distance feature calculation\n",
        "Below section shows logic to create an engineered feature, \"distance\", using the haversine formula for shortest distance betwen two points on a sphere (globe).\n",
        "\n",
        "Uses additional libraries:  \n",
        "1. ```pip install haversine``` \n",
        "2. ```pip install dython```"
      ]
    },
    {
      "cell_type": "code",
      "execution_count": null,
      "metadata": {
        "colab": {
          "base_uri": "https://localhost:8080/"
        },
        "id": "mzbdB-ZRBbG-",
        "outputId": "6850e3be-d949-4047-db6c-f318ac051e84"
      },
      "outputs": [],
      "source": [
        "# use these installs if running in Google Colab\n",
        "# # install haversine library\n",
        "# !pip install haversine\n",
        "# # install dython library\n",
        "# !pip install dython"
      ]
    },
    {
      "cell_type": "markdown",
      "metadata": {},
      "source": [
        "For ease of use in this example, make a copy of just the columns we need here.\n"
      ]
    },
    {
      "cell_type": "code",
      "execution_count": 5,
      "metadata": {},
      "outputs": [],
      "source": [
        "df_locs = df_raw[[\"trans_num\", \"is_fraud\", \"cc_num\",\"lat\",\"long\", \"merch_lat\",\"merch_long\",\"street\", \"city\",\"state\",\"zip\"]]"
      ]
    },
    {
      "cell_type": "markdown",
      "metadata": {},
      "source": [
        "The haversine library for calculating distance takes tuples of latitude, longitude as input.\n",
        "Create new columns for buyer and merchant locations."
      ]
    },
    {
      "cell_type": "code",
      "execution_count": 6,
      "metadata": {},
      "outputs": [],
      "source": [
        "df_locs[\"buyer_location\"] = df_locs[[\"lat\", \"long\"]].apply(tuple, axis=1)\n",
        "df_locs[\"merchant_location\"] = df_locs[[\"merch_lat\", \"merch_long\"]].apply(tuple, axis=1)"
      ]
    },
    {
      "cell_type": "markdown",
      "metadata": {},
      "source": [
        "Create a function to enabling the calculation on all the rows of our dataset"
      ]
    },
    {
      "cell_type": "code",
      "execution_count": 7,
      "metadata": {},
      "outputs": [],
      "source": [
        "def calc_distance(row):\n",
        "  \"\"\"Calculates the haversine distance between two geopoints (tuples of latitude, longitude) in miles, rounded to 2 decimals.\"\"\"\n",
        "  return round((haversine(row[\"buyer_location\"], row[\"merchant_location\"], unit=Unit.MILES)),2)"
      ]
    },
    {
      "cell_type": "code",
      "execution_count": 8,
      "metadata": {},
      "outputs": [],
      "source": [
        "df_locs[\"distance\"] = df_locs.apply(calc_distance, axis=1)"
      ]
    },
    {
      "cell_type": "code",
      "execution_count": 9,
      "metadata": {},
      "outputs": [
        {
          "data": {
            "text/html": [
              "<div>\n",
              "<style scoped>\n",
              "    .dataframe tbody tr th:only-of-type {\n",
              "        vertical-align: middle;\n",
              "    }\n",
              "\n",
              "    .dataframe tbody tr th {\n",
              "        vertical-align: top;\n",
              "    }\n",
              "\n",
              "    .dataframe thead th {\n",
              "        text-align: right;\n",
              "    }\n",
              "</style>\n",
              "<table border=\"1\" class=\"dataframe\">\n",
              "  <thead>\n",
              "    <tr style=\"text-align: right;\">\n",
              "      <th></th>\n",
              "      <th>trans_num</th>\n",
              "      <th>is_fraud</th>\n",
              "      <th>cc_num</th>\n",
              "      <th>lat</th>\n",
              "      <th>long</th>\n",
              "      <th>merch_lat</th>\n",
              "      <th>merch_long</th>\n",
              "      <th>street</th>\n",
              "      <th>city</th>\n",
              "      <th>state</th>\n",
              "      <th>zip</th>\n",
              "      <th>buyer_location</th>\n",
              "      <th>merchant_location</th>\n",
              "      <th>distance</th>\n",
              "    </tr>\n",
              "  </thead>\n",
              "  <tbody>\n",
              "    <tr>\n",
              "      <th>0</th>\n",
              "      <td>0b242abb623afc578575680df30655b9</td>\n",
              "      <td>0</td>\n",
              "      <td>2703186189652095</td>\n",
              "      <td>36.0788</td>\n",
              "      <td>-81.1781</td>\n",
              "      <td>36.011293</td>\n",
              "      <td>-82.048315</td>\n",
              "      <td>561 Perry Cove</td>\n",
              "      <td>Moravian Falls</td>\n",
              "      <td>NC</td>\n",
              "      <td>28654</td>\n",
              "      <td>(36.0788, -81.1781)</td>\n",
              "      <td>(36.011293, -82.048315)</td>\n",
              "      <td>48.84</td>\n",
              "    </tr>\n",
              "    <tr>\n",
              "      <th>1</th>\n",
              "      <td>1f76529f8574734946361c461b024d99</td>\n",
              "      <td>0</td>\n",
              "      <td>630423337322</td>\n",
              "      <td>48.8878</td>\n",
              "      <td>-118.2105</td>\n",
              "      <td>49.159047</td>\n",
              "      <td>-118.186462</td>\n",
              "      <td>43039 Riley Greens Suite 393</td>\n",
              "      <td>Orient</td>\n",
              "      <td>WA</td>\n",
              "      <td>99160</td>\n",
              "      <td>(48.8878, -118.2105)</td>\n",
              "      <td>(49.159047, -118.186462)</td>\n",
              "      <td>18.77</td>\n",
              "    </tr>\n",
              "    <tr>\n",
              "      <th>2</th>\n",
              "      <td>a1a22d70485983eac12b5b88dad1cf95</td>\n",
              "      <td>0</td>\n",
              "      <td>38859492057661</td>\n",
              "      <td>42.1808</td>\n",
              "      <td>-112.2620</td>\n",
              "      <td>43.150704</td>\n",
              "      <td>-112.154481</td>\n",
              "      <td>594 White Dale Suite 530</td>\n",
              "      <td>Malad City</td>\n",
              "      <td>ID</td>\n",
              "      <td>83252</td>\n",
              "      <td>(42.1808, -112.262)</td>\n",
              "      <td>(43.150704, -112.154481)</td>\n",
              "      <td>67.24</td>\n",
              "    </tr>\n",
              "    <tr>\n",
              "      <th>3</th>\n",
              "      <td>6b849c168bdad6f867558c3793159a81</td>\n",
              "      <td>0</td>\n",
              "      <td>3534093764340240</td>\n",
              "      <td>46.2306</td>\n",
              "      <td>-112.1138</td>\n",
              "      <td>47.034331</td>\n",
              "      <td>-112.561071</td>\n",
              "      <td>9443 Cynthia Court Apt. 038</td>\n",
              "      <td>Boulder</td>\n",
              "      <td>MT</td>\n",
              "      <td>59632</td>\n",
              "      <td>(46.2306, -112.1138)</td>\n",
              "      <td>(47.034331, -112.561071)</td>\n",
              "      <td>59.45</td>\n",
              "    </tr>\n",
              "    <tr>\n",
              "      <th>4</th>\n",
              "      <td>a41d7549acf90789359a9aa5346dcb46</td>\n",
              "      <td>0</td>\n",
              "      <td>375534208663984</td>\n",
              "      <td>38.4207</td>\n",
              "      <td>-79.4629</td>\n",
              "      <td>38.674999</td>\n",
              "      <td>-78.632459</td>\n",
              "      <td>408 Bradley Rest</td>\n",
              "      <td>Doe Hill</td>\n",
              "      <td>VA</td>\n",
              "      <td>24433</td>\n",
              "      <td>(38.4207, -79.4629)</td>\n",
              "      <td>(38.674999, -78.632459)</td>\n",
              "      <td>48.19</td>\n",
              "    </tr>\n",
              "  </tbody>\n",
              "</table>\n",
              "</div>"
            ],
            "text/plain": [
              "                          trans_num  is_fraud            cc_num      lat  \\\n",
              "0  0b242abb623afc578575680df30655b9         0  2703186189652095  36.0788   \n",
              "1  1f76529f8574734946361c461b024d99         0      630423337322  48.8878   \n",
              "2  a1a22d70485983eac12b5b88dad1cf95         0    38859492057661  42.1808   \n",
              "3  6b849c168bdad6f867558c3793159a81         0  3534093764340240  46.2306   \n",
              "4  a41d7549acf90789359a9aa5346dcb46         0   375534208663984  38.4207   \n",
              "\n",
              "       long  merch_lat  merch_long                        street  \\\n",
              "0  -81.1781  36.011293  -82.048315                561 Perry Cove   \n",
              "1 -118.2105  49.159047 -118.186462  43039 Riley Greens Suite 393   \n",
              "2 -112.2620  43.150704 -112.154481      594 White Dale Suite 530   \n",
              "3 -112.1138  47.034331 -112.561071   9443 Cynthia Court Apt. 038   \n",
              "4  -79.4629  38.674999  -78.632459              408 Bradley Rest   \n",
              "\n",
              "             city state    zip        buyer_location  \\\n",
              "0  Moravian Falls    NC  28654   (36.0788, -81.1781)   \n",
              "1          Orient    WA  99160  (48.8878, -118.2105)   \n",
              "2      Malad City    ID  83252   (42.1808, -112.262)   \n",
              "3         Boulder    MT  59632  (46.2306, -112.1138)   \n",
              "4        Doe Hill    VA  24433   (38.4207, -79.4629)   \n",
              "\n",
              "          merchant_location  distance  \n",
              "0   (36.011293, -82.048315)     48.84  \n",
              "1  (49.159047, -118.186462)     18.77  \n",
              "2  (43.150704, -112.154481)     67.24  \n",
              "3  (47.034331, -112.561071)     59.45  \n",
              "4   (38.674999, -78.632459)     48.19  "
            ]
          },
          "execution_count": 9,
          "metadata": {},
          "output_type": "execute_result"
        }
      ],
      "source": [
        "df_locs.head()"
      ]
    },
    {
      "cell_type": "code",
      "execution_count": 15,
      "metadata": {},
      "outputs": [
        {
          "data": {
            "text/plain": [
              "Text(0.5, 1.0, 'Correlation Heatmap')"
            ]
          },
          "execution_count": 15,
          "metadata": {},
          "output_type": "execute_result"
        },
        {
          "data": {
            "image/png": "[encoded data removed]",
            "text/plain": [
              "<Figure size 800x800 with 2 Axes>"
            ]
          },
          "metadata": {},
          "output_type": "display_data"
        }
      ],
      "source": [
        "plt.rcParams['figure.figsize'] = (8, 8)\n",
        "\n",
        "dist_corr = df_locs[[\"is_fraud\", \"distance\"]].corr()\n",
        "mask = np.triu(np.ones_like(dist_corr, dtype=bool))\n",
        "heatmap = sns.heatmap(\n",
        "    dist_corr, \n",
        "    vmin=-1.0, \n",
        "    vmax=1.0, \n",
        "    cmap=\"coolwarm\",\n",
        "    # mask=mask,\n",
        "    annot=True)\n",
        "heatmap.set_title(\"Correlation Heatmap\")"
      ]
    },
    {
      "cell_type": "code",
      "execution_count": null,
      "metadata": {},
      "outputs": [],
      "source": []
    },
    {
      "cell_type": "markdown",
      "metadata": {},
      "source": [
        "### Geocoding addresses\n",
        "\n",
        "We're going to follow a geocoding guide by Peter Haas published [here](https://peterhaas-me.medium.com/how-to-geocode-with-python-and-pandas-4cd1d717d3f7) on Medium to geocode the \n",
        "addresses in our dataset.\n",
        "\n",
        "You'll need install the geopy library:   ```pip install geopy```"
      ]
    },
    {
      "cell_type": "code",
      "execution_count": 18,
      "metadata": {},
      "outputs": [],
      "source": [
        "from geopy.geocoders import Nominatim  # OpenStreetMaps geocoding service\n",
        "from geopy import distance  # distance calculation built into geopy library\n",
        "from geopy.extra.rate_limiter import RateLimiter # To limit service request rates per provider terms (Nominatum is 1/sec)"
      ]
    },
    {
      "cell_type": "markdown",
      "metadata": {},
      "source": [
        "Create instances of the geocoding classes that enable applying the service to a dataframe.  We need to limit the API call rate to be compliant with the service terms."
      ]
    },
    {
      "cell_type": "code",
      "execution_count": 19,
      "metadata": {},
      "outputs": [],
      "source": [
        "geolocator = Nominatim(timeout=10, user_agent=\"OMLDS_test\")\n",
        "geocode = RateLimiter(\n",
        "    geolocator.geocode, \n",
        "    min_delay_seconds=1, \n",
        "    max_retries=2, \n",
        "    error_wait_seconds=5.0, \n",
        "    swallow_exceptions=True,\n",
        "    return_value_on_exception=None\n",
        "    )"
      ]
    },
    {
      "cell_type": "markdown",
      "metadata": {},
      "source": [
        "Since addresses are supposed to be unique per cc_num, we don't need to call geocoding on all transactions, only unique cc_num/address combinations.  This will greatly reduce the number of geocoding calls (983 instead of 1M+)."
      ]
    },
    {
      "cell_type": "code",
      "execution_count": 22,
      "metadata": {},
      "outputs": [],
      "source": [
        "df_cc_address = df_raw[[\"cc_num\", \"street\", \"city\", \"state\", \"zip\"]].copy()"
      ]
    },
    {
      "cell_type": "code",
      "execution_count": 23,
      "metadata": {},
      "outputs": [],
      "source": [
        "df_cc_address.drop_duplicates(inplace=True)"
      ]
    },
    {
      "cell_type": "code",
      "execution_count": 24,
      "metadata": {},
      "outputs": [
        {
          "name": "stdout",
          "output_type": "stream",
          "text": [
            "<class 'pandas.core.frame.DataFrame'>\n",
            "Int64Index: 983 entries, 0 to 1275589\n",
            "Data columns (total 5 columns):\n",
            " #   Column  Non-Null Count  Dtype \n",
            "---  ------  --------------  ----- \n",
            " 0   cc_num  983 non-null    int64 \n",
            " 1   street  983 non-null    object\n",
            " 2   city    983 non-null    object\n",
            " 3   state   983 non-null    object\n",
            " 4   zip     983 non-null    int64 \n",
            "dtypes: int64(2), object(3)\n",
            "memory usage: 46.1+ KB\n"
          ]
        }
      ],
      "source": [
        "df_cc_address.info()"
      ]
    },
    {
      "cell_type": "markdown",
      "metadata": {},
      "source": [
        "In the case of this simulated dataset the full address is not real.  Therefore we are limited to use city, state to retrieve a geocode."
      ]
    },
    {
      "cell_type": "code",
      "execution_count": 27,
      "metadata": {},
      "outputs": [],
      "source": [
        "# add columns for city_state and full_address used in geocoding\n",
        "# because this is a simulated public training dataset the full addresses are not real\n",
        "# we can however use the city and state as an approximation of location aside from the given lat/long\n",
        "df_cc_address[\"city_state\"] = df_cc_address.city +\",\"+df_cc_address.state\n",
        "df_cc_address[\"full_address\"] = df_cc_address.street + \",\" + df_cc_address.city + \",\" + df_cc_address.state #+ \", \" + str(df_cc_address.zip)"
      ]
    },
    {
      "cell_type": "code",
      "execution_count": 28,
      "metadata": {},
      "outputs": [
        {
          "data": {
            "text/html": [
              "<div>\n",
              "<style scoped>\n",
              "    .dataframe tbody tr th:only-of-type {\n",
              "        vertical-align: middle;\n",
              "    }\n",
              "\n",
              "    .dataframe tbody tr th {\n",
              "        vertical-align: top;\n",
              "    }\n",
              "\n",
              "    .dataframe thead th {\n",
              "        text-align: right;\n",
              "    }\n",
              "</style>\n",
              "<table border=\"1\" class=\"dataframe\">\n",
              "  <thead>\n",
              "    <tr style=\"text-align: right;\">\n",
              "      <th></th>\n",
              "      <th>cc_num</th>\n",
              "      <th>street</th>\n",
              "      <th>city</th>\n",
              "      <th>state</th>\n",
              "      <th>zip</th>\n",
              "      <th>city_state</th>\n",
              "      <th>full_address</th>\n",
              "    </tr>\n",
              "  </thead>\n",
              "  <tbody>\n",
              "    <tr>\n",
              "      <th>0</th>\n",
              "      <td>2703186189652095</td>\n",
              "      <td>561 Perry Cove</td>\n",
              "      <td>Moravian Falls</td>\n",
              "      <td>NC</td>\n",
              "      <td>28654</td>\n",
              "      <td>Moravian Falls,NC</td>\n",
              "      <td>561 Perry Cove,Moravian Falls,NC</td>\n",
              "    </tr>\n",
              "    <tr>\n",
              "      <th>1</th>\n",
              "      <td>630423337322</td>\n",
              "      <td>43039 Riley Greens Suite 393</td>\n",
              "      <td>Orient</td>\n",
              "      <td>WA</td>\n",
              "      <td>99160</td>\n",
              "      <td>Orient,WA</td>\n",
              "      <td>43039 Riley Greens Suite 393,Orient,WA</td>\n",
              "    </tr>\n",
              "    <tr>\n",
              "      <th>2</th>\n",
              "      <td>38859492057661</td>\n",
              "      <td>594 White Dale Suite 530</td>\n",
              "      <td>Malad City</td>\n",
              "      <td>ID</td>\n",
              "      <td>83252</td>\n",
              "      <td>Malad City,ID</td>\n",
              "      <td>594 White Dale Suite 530,Malad City,ID</td>\n",
              "    </tr>\n",
              "    <tr>\n",
              "      <th>3</th>\n",
              "      <td>3534093764340240</td>\n",
              "      <td>9443 Cynthia Court Apt. 038</td>\n",
              "      <td>Boulder</td>\n",
              "      <td>MT</td>\n",
              "      <td>59632</td>\n",
              "      <td>Boulder,MT</td>\n",
              "      <td>9443 Cynthia Court Apt. 038,Boulder,MT</td>\n",
              "    </tr>\n",
              "    <tr>\n",
              "      <th>4</th>\n",
              "      <td>375534208663984</td>\n",
              "      <td>408 Bradley Rest</td>\n",
              "      <td>Doe Hill</td>\n",
              "      <td>VA</td>\n",
              "      <td>24433</td>\n",
              "      <td>Doe Hill,VA</td>\n",
              "      <td>408 Bradley Rest,Doe Hill,VA</td>\n",
              "    </tr>\n",
              "  </tbody>\n",
              "</table>\n",
              "</div>"
            ],
            "text/plain": [
              "             cc_num                        street            city state  \\\n",
              "0  2703186189652095                561 Perry Cove  Moravian Falls    NC   \n",
              "1      630423337322  43039 Riley Greens Suite 393          Orient    WA   \n",
              "2    38859492057661      594 White Dale Suite 530      Malad City    ID   \n",
              "3  3534093764340240   9443 Cynthia Court Apt. 038         Boulder    MT   \n",
              "4   375534208663984              408 Bradley Rest        Doe Hill    VA   \n",
              "\n",
              "     zip         city_state                            full_address  \n",
              "0  28654  Moravian Falls,NC        561 Perry Cove,Moravian Falls,NC  \n",
              "1  99160          Orient,WA  43039 Riley Greens Suite 393,Orient,WA  \n",
              "2  83252      Malad City,ID  594 White Dale Suite 530,Malad City,ID  \n",
              "3  59632         Boulder,MT  9443 Cynthia Court Apt. 038,Boulder,MT  \n",
              "4  24433        Doe Hill,VA            408 Bradley Rest,Doe Hill,VA  "
            ]
          },
          "execution_count": 28,
          "metadata": {},
          "output_type": "execute_result"
        }
      ],
      "source": [
        "df_cc_address.head()"
      ]
    },
    {
      "cell_type": "markdown",
      "metadata": {},
      "source": [
        "Running the free service limited to 1 call per second for the full unique set of addresses would need approx. 16 min.  We'll use a small test set to show how the call works."
      ]
    },
    {
      "cell_type": "code",
      "execution_count": 30,
      "metadata": {},
      "outputs": [],
      "source": [
        "# df_cc_address[\"geocode\"] = df_cc_address[\"city_state\"].apply(geocode)"
      ]
    },
    {
      "cell_type": "code",
      "execution_count": 32,
      "metadata": {},
      "outputs": [],
      "source": [
        "df_test = df_cc_address[:3].copy()"
      ]
    },
    {
      "cell_type": "code",
      "execution_count": 33,
      "metadata": {},
      "outputs": [
        {
          "data": {
            "text/html": [
              "<div>\n",
              "<style scoped>\n",
              "    .dataframe tbody tr th:only-of-type {\n",
              "        vertical-align: middle;\n",
              "    }\n",
              "\n",
              "    .dataframe tbody tr th {\n",
              "        vertical-align: top;\n",
              "    }\n",
              "\n",
              "    .dataframe thead th {\n",
              "        text-align: right;\n",
              "    }\n",
              "</style>\n",
              "<table border=\"1\" class=\"dataframe\">\n",
              "  <thead>\n",
              "    <tr style=\"text-align: right;\">\n",
              "      <th></th>\n",
              "      <th>cc_num</th>\n",
              "      <th>street</th>\n",
              "      <th>city</th>\n",
              "      <th>state</th>\n",
              "      <th>zip</th>\n",
              "      <th>city_state</th>\n",
              "      <th>full_address</th>\n",
              "    </tr>\n",
              "  </thead>\n",
              "  <tbody>\n",
              "    <tr>\n",
              "      <th>0</th>\n",
              "      <td>2703186189652095</td>\n",
              "      <td>561 Perry Cove</td>\n",
              "      <td>Moravian Falls</td>\n",
              "      <td>NC</td>\n",
              "      <td>28654</td>\n",
              "      <td>Moravian Falls,NC</td>\n",
              "      <td>561 Perry Cove,Moravian Falls,NC</td>\n",
              "    </tr>\n",
              "    <tr>\n",
              "      <th>1</th>\n",
              "      <td>630423337322</td>\n",
              "      <td>43039 Riley Greens Suite 393</td>\n",
              "      <td>Orient</td>\n",
              "      <td>WA</td>\n",
              "      <td>99160</td>\n",
              "      <td>Orient,WA</td>\n",
              "      <td>43039 Riley Greens Suite 393,Orient,WA</td>\n",
              "    </tr>\n",
              "    <tr>\n",
              "      <th>2</th>\n",
              "      <td>38859492057661</td>\n",
              "      <td>594 White Dale Suite 530</td>\n",
              "      <td>Malad City</td>\n",
              "      <td>ID</td>\n",
              "      <td>83252</td>\n",
              "      <td>Malad City,ID</td>\n",
              "      <td>594 White Dale Suite 530,Malad City,ID</td>\n",
              "    </tr>\n",
              "  </tbody>\n",
              "</table>\n",
              "</div>"
            ],
            "text/plain": [
              "             cc_num                        street            city state  \\\n",
              "0  2703186189652095                561 Perry Cove  Moravian Falls    NC   \n",
              "1      630423337322  43039 Riley Greens Suite 393          Orient    WA   \n",
              "2    38859492057661      594 White Dale Suite 530      Malad City    ID   \n",
              "\n",
              "     zip         city_state                            full_address  \n",
              "0  28654  Moravian Falls,NC        561 Perry Cove,Moravian Falls,NC  \n",
              "1  99160          Orient,WA  43039 Riley Greens Suite 393,Orient,WA  \n",
              "2  83252      Malad City,ID  594 White Dale Suite 530,Malad City,ID  "
            ]
          },
          "execution_count": 33,
          "metadata": {},
          "output_type": "execute_result"
        }
      ],
      "source": [
        "df_test.head()"
      ]
    },
    {
      "cell_type": "code",
      "execution_count": 34,
      "metadata": {},
      "outputs": [],
      "source": [
        "df_test[\"geocode\"] = df_test.city_state.apply(geocode)"
      ]
    },
    {
      "cell_type": "code",
      "execution_count": 35,
      "metadata": {},
      "outputs": [
        {
          "data": {
            "text/html": [
              "<div>\n",
              "<style scoped>\n",
              "    .dataframe tbody tr th:only-of-type {\n",
              "        vertical-align: middle;\n",
              "    }\n",
              "\n",
              "    .dataframe tbody tr th {\n",
              "        vertical-align: top;\n",
              "    }\n",
              "\n",
              "    .dataframe thead th {\n",
              "        text-align: right;\n",
              "    }\n",
              "</style>\n",
              "<table border=\"1\" class=\"dataframe\">\n",
              "  <thead>\n",
              "    <tr style=\"text-align: right;\">\n",
              "      <th></th>\n",
              "      <th>cc_num</th>\n",
              "      <th>street</th>\n",
              "      <th>city</th>\n",
              "      <th>state</th>\n",
              "      <th>zip</th>\n",
              "      <th>city_state</th>\n",
              "      <th>full_address</th>\n",
              "      <th>geocode</th>\n",
              "    </tr>\n",
              "  </thead>\n",
              "  <tbody>\n",
              "    <tr>\n",
              "      <th>0</th>\n",
              "      <td>2703186189652095</td>\n",
              "      <td>561 Perry Cove</td>\n",
              "      <td>Moravian Falls</td>\n",
              "      <td>NC</td>\n",
              "      <td>28654</td>\n",
              "      <td>Moravian Falls,NC</td>\n",
              "      <td>561 Perry Cove,Moravian Falls,NC</td>\n",
              "      <td>(Moravian Falls, Wilkes County, North Carolina...</td>\n",
              "    </tr>\n",
              "    <tr>\n",
              "      <th>1</th>\n",
              "      <td>630423337322</td>\n",
              "      <td>43039 Riley Greens Suite 393</td>\n",
              "      <td>Orient</td>\n",
              "      <td>WA</td>\n",
              "      <td>99160</td>\n",
              "      <td>Orient,WA</td>\n",
              "      <td>43039 Riley Greens Suite 393,Orient,WA</td>\n",
              "      <td>(Orient, Ferry County, Washington, United Stat...</td>\n",
              "    </tr>\n",
              "    <tr>\n",
              "      <th>2</th>\n",
              "      <td>38859492057661</td>\n",
              "      <td>594 White Dale Suite 530</td>\n",
              "      <td>Malad City</td>\n",
              "      <td>ID</td>\n",
              "      <td>83252</td>\n",
              "      <td>Malad City,ID</td>\n",
              "      <td>594 White Dale Suite 530,Malad City,ID</td>\n",
              "      <td>(Malad City, Oneida County, Idaho, United Stat...</td>\n",
              "    </tr>\n",
              "  </tbody>\n",
              "</table>\n",
              "</div>"
            ],
            "text/plain": [
              "             cc_num                        street            city state  \\\n",
              "0  2703186189652095                561 Perry Cove  Moravian Falls    NC   \n",
              "1      630423337322  43039 Riley Greens Suite 393          Orient    WA   \n",
              "2    38859492057661      594 White Dale Suite 530      Malad City    ID   \n",
              "\n",
              "     zip         city_state                            full_address  \\\n",
              "0  28654  Moravian Falls,NC        561 Perry Cove,Moravian Falls,NC   \n",
              "1  99160          Orient,WA  43039 Riley Greens Suite 393,Orient,WA   \n",
              "2  83252      Malad City,ID  594 White Dale Suite 530,Malad City,ID   \n",
              "\n",
              "                                             geocode  \n",
              "0  (Moravian Falls, Wilkes County, North Carolina...  \n",
              "1  (Orient, Ferry County, Washington, United Stat...  \n",
              "2  (Malad City, Oneida County, Idaho, United Stat...  "
            ]
          },
          "execution_count": 35,
          "metadata": {},
          "output_type": "execute_result"
        }
      ],
      "source": [
        "df_test.head()"
      ]
    },
    {
      "cell_type": "markdown",
      "metadata": {},
      "source": [
        "Extract the latitude and longitude info from the geocode object to new fields"
      ]
    },
    {
      "cell_type": "code",
      "execution_count": 36,
      "metadata": {},
      "outputs": [],
      "source": [
        "df_test[\"city_state_lat\"] = [g.latitude for g in df_test.geocode]\n",
        "df_test[\"city_state_long\"] = [g.longitude for g in df_test.geocode]"
      ]
    },
    {
      "cell_type": "code",
      "execution_count": 37,
      "metadata": {},
      "outputs": [
        {
          "data": {
            "text/html": [
              "<div>\n",
              "<style scoped>\n",
              "    .dataframe tbody tr th:only-of-type {\n",
              "        vertical-align: middle;\n",
              "    }\n",
              "\n",
              "    .dataframe tbody tr th {\n",
              "        vertical-align: top;\n",
              "    }\n",
              "\n",
              "    .dataframe thead th {\n",
              "        text-align: right;\n",
              "    }\n",
              "</style>\n",
              "<table border=\"1\" class=\"dataframe\">\n",
              "  <thead>\n",
              "    <tr style=\"text-align: right;\">\n",
              "      <th></th>\n",
              "      <th>cc_num</th>\n",
              "      <th>street</th>\n",
              "      <th>city</th>\n",
              "      <th>state</th>\n",
              "      <th>zip</th>\n",
              "      <th>city_state</th>\n",
              "      <th>full_address</th>\n",
              "      <th>geocode</th>\n",
              "      <th>city_state_lat</th>\n",
              "      <th>city_state_long</th>\n",
              "    </tr>\n",
              "  </thead>\n",
              "  <tbody>\n",
              "    <tr>\n",
              "      <th>0</th>\n",
              "      <td>2703186189652095</td>\n",
              "      <td>561 Perry Cove</td>\n",
              "      <td>Moravian Falls</td>\n",
              "      <td>NC</td>\n",
              "      <td>28654</td>\n",
              "      <td>Moravian Falls,NC</td>\n",
              "      <td>561 Perry Cove,Moravian Falls,NC</td>\n",
              "      <td>(Moravian Falls, Wilkes County, North Carolina...</td>\n",
              "      <td>36.102687</td>\n",
              "      <td>-81.181582</td>\n",
              "    </tr>\n",
              "    <tr>\n",
              "      <th>1</th>\n",
              "      <td>630423337322</td>\n",
              "      <td>43039 Riley Greens Suite 393</td>\n",
              "      <td>Orient</td>\n",
              "      <td>WA</td>\n",
              "      <td>99160</td>\n",
              "      <td>Orient,WA</td>\n",
              "      <td>43039 Riley Greens Suite 393,Orient,WA</td>\n",
              "      <td>(Orient, Ferry County, Washington, United Stat...</td>\n",
              "      <td>48.866014</td>\n",
              "      <td>-118.202781</td>\n",
              "    </tr>\n",
              "    <tr>\n",
              "      <th>2</th>\n",
              "      <td>38859492057661</td>\n",
              "      <td>594 White Dale Suite 530</td>\n",
              "      <td>Malad City</td>\n",
              "      <td>ID</td>\n",
              "      <td>83252</td>\n",
              "      <td>Malad City,ID</td>\n",
              "      <td>594 White Dale Suite 530,Malad City,ID</td>\n",
              "      <td>(Malad City, Oneida County, Idaho, United Stat...</td>\n",
              "      <td>42.191587</td>\n",
              "      <td>-112.250798</td>\n",
              "    </tr>\n",
              "  </tbody>\n",
              "</table>\n",
              "</div>"
            ],
            "text/plain": [
              "             cc_num                        street            city state  \\\n",
              "0  2703186189652095                561 Perry Cove  Moravian Falls    NC   \n",
              "1      630423337322  43039 Riley Greens Suite 393          Orient    WA   \n",
              "2    38859492057661      594 White Dale Suite 530      Malad City    ID   \n",
              "\n",
              "     zip         city_state                            full_address  \\\n",
              "0  28654  Moravian Falls,NC        561 Perry Cove,Moravian Falls,NC   \n",
              "1  99160          Orient,WA  43039 Riley Greens Suite 393,Orient,WA   \n",
              "2  83252      Malad City,ID  594 White Dale Suite 530,Malad City,ID   \n",
              "\n",
              "                                             geocode  city_state_lat  \\\n",
              "0  (Moravian Falls, Wilkes County, North Carolina...       36.102687   \n",
              "1  (Orient, Ferry County, Washington, United Stat...       48.866014   \n",
              "2  (Malad City, Oneida County, Idaho, United Stat...       42.191587   \n",
              "\n",
              "   city_state_long  \n",
              "0       -81.181582  \n",
              "1      -118.202781  \n",
              "2      -112.250798  "
            ]
          },
          "execution_count": 37,
          "metadata": {},
          "output_type": "execute_result"
        }
      ],
      "source": [
        "df_test.head()"
      ]
    },
    {
      "cell_type": "code",
      "execution_count": null,
      "metadata": {},
      "outputs": [],
      "source": [
        "loc1 = (df_test.loc[0][\"lat\"], df_test.loc[0][\"long\"])\n",
        "loc2 = (df_test.loc[0][\"address_lat\"], df_test.loc[0][\"address_long\"])\n",
        "\n",
        "dist = distance.distance(loc1, loc2).miles\n",
        "print(dist)"
      ]
    },
    {
      "cell_type": "code",
      "execution_count": null,
      "metadata": {},
      "outputs": [],
      "source": [
        "df_test.loc[0]"
      ]
    },
    {
      "cell_type": "code",
      "execution_count": null,
      "metadata": {},
      "outputs": [],
      "source": [
        "def distance_between_geolocs(row, loc1_columns, loc2_columns):\n",
        "    loc1 = (row[loc1_columns[0]], row[loc1_columns[1]])\n",
        "    loc2 = (row[loc2_columns[0]], row[loc2_columns[1]])\n",
        "    return distance.distance(loc1, loc2).miles\n"
      ]
    },
    {
      "cell_type": "code",
      "execution_count": null,
      "metadata": {},
      "outputs": [],
      "source": [
        "df_test[\"dist_orig_to_city_state\"] = df_test.apply(lambda row:\n",
        "    distance_between_geolocs(\n",
        "        row, [\"lat\",\"long\"], [\"city_state_lat\", \"city_state_long\"]\n",
        "    ), axis=1\n",
        ")"
      ]
    },
    {
      "cell_type": "code",
      "execution_count": null,
      "metadata": {},
      "outputs": [],
      "source": [
        "df_test.head()"
      ]
    },
    {
      "cell_type": "code",
      "execution_count": null,
      "metadata": {},
      "outputs": [],
      "source": []
    },
    {
      "cell_type": "code",
      "execution_count": null,
      "metadata": {},
      "outputs": [],
      "source": []
    },
    {
      "cell_type": "code",
      "execution_count": null,
      "metadata": {},
      "outputs": [],
      "source": [
        "# example geocoding full address\n",
        "# df_cc_address[\"geocode\"] = df_cc_address.full_address.apply(geolocator.geocode)"
      ]
    },
    {
      "cell_type": "code",
      "execution_count": null,
      "metadata": {},
      "outputs": [],
      "source": [
        "df_coords = pd.read_csv('../data/new_home_coords.csv', index_col=0)"
      ]
    },
    {
      "cell_type": "code",
      "execution_count": null,
      "metadata": {},
      "outputs": [],
      "source": [
        "df_coords.head()"
      ]
    },
    {
      "cell_type": "code",
      "execution_count": null,
      "metadata": {},
      "outputs": [],
      "source": [
        "df_coords.reset_index()"
      ]
    },
    {
      "cell_type": "code",
      "execution_count": null,
      "metadata": {},
      "outputs": [],
      "source": []
    },
    {
      "cell_type": "code",
      "execution_count": null,
      "metadata": {},
      "outputs": [],
      "source": []
    },
    {
      "cell_type": "code",
      "execution_count": null,
      "metadata": {},
      "outputs": [],
      "source": []
    },
    {
      "cell_type": "code",
      "execution_count": null,
      "metadata": {},
      "outputs": [],
      "source": []
    },
    {
      "cell_type": "code",
      "execution_count": null,
      "metadata": {},
      "outputs": [],
      "source": []
    },
    {
      "cell_type": "code",
      "execution_count": null,
      "metadata": {
        "id": "b6IAPYD6qQJt"
      },
      "outputs": [],
      "source": [
        "df_raw_factors = df_raw[[\n",
        "    \"is_fraud\",\n",
        "    \"category\",\n",
        "    \"amt\",\n",
        "    \"gender\",\n",
        "    \"city_pop\",\n",
        "    \"job\",\n",
        "    \"lat\",\n",
        "    \"long\",\n",
        "    \"merch_lat\",\n",
        "    \"merch_long\",\n",
        "\n",
        "]].copy()"
      ]
    },
    {
      "cell_type": "code",
      "execution_count": null,
      "metadata": {
        "id": "LjSJGQ9i_lK9"
      },
      "outputs": [],
      "source": [
        "df_dist = df_raw[[\"trans_num\", \"is_fraud\", \"lat\", \"long\", \"merch_lat\",\"merch_long\", \"category\"]].copy()"
      ]
    },
    {
      "cell_type": "code",
      "execution_count": null,
      "metadata": {
        "colab": {
          "base_uri": "https://localhost:8080/",
          "height": 206
        },
        "id": "xTM87MACAEf7",
        "outputId": "d463a449-85b0-4936-8964-5a1bb25d900c"
      },
      "outputs": [],
      "source": [
        "df_dist.head()"
      ]
    },
    {
      "cell_type": "code",
      "execution_count": null,
      "metadata": {
        "id": "TjdTmKe0ALjs"
      },
      "outputs": [],
      "source": []
    },
    {
      "cell_type": "code",
      "execution_count": null,
      "metadata": {
        "colab": {
          "base_uri": "https://localhost:8080/",
          "height": 206
        },
        "id": "n2JJNMyeDJua",
        "outputId": "efcb2051-dd4c-49c1-9a0a-05b56e936ee9"
      },
      "outputs": [],
      "source": [
        "df_dist.head()"
      ]
    },
    {
      "cell_type": "code",
      "execution_count": null,
      "metadata": {
        "colab": {
          "base_uri": "https://localhost:8080/",
          "height": 206
        },
        "id": "MD34RV9eUVeF",
        "outputId": "c51cf53e-5184-4c55-f1fa-acf7dcdbdd69"
      },
      "outputs": [],
      "source": [
        "df_dist.drop(columns=[\"lat\",\"long\", \"merch_lat\", \"merch_long\"], inplace=True)\n",
        "df_dist.head()"
      ]
    },
    {
      "cell_type": "code",
      "execution_count": null,
      "metadata": {
        "id": "IjbZ36bgI_TN"
      },
      "outputs": [],
      "source": [
        "# calculate distance between buyer_location and merchant_location\n",
        "# for simplicity we are using the haversine distance formula, which is a shortest distance between points on a sphere\n",
        "# other options could include methods like driving distance using google maps api or similar\n",
        "\n",
        "def distance(row):\n",
        "  return round((haversine(row[\"buyer_location\"], row[\"merchant_location\"], unit=Unit.MILES)),2)\n"
      ]
    },
    {
      "cell_type": "code",
      "execution_count": null,
      "metadata": {
        "id": "ZQM2th3mJiuR"
      },
      "outputs": [],
      "source": [
        "df_dist[\"distance\"] = df_dist.apply(distance, axis=1)"
      ]
    },
    {
      "cell_type": "code",
      "execution_count": null,
      "metadata": {
        "colab": {
          "base_uri": "https://localhost:8080/",
          "height": 206
        },
        "id": "SCk4w5EGJzTq",
        "outputId": "fadb5ec4-3214-4d94-9d07-f5cd7b40984b"
      },
      "outputs": [],
      "source": [
        "df_dist.head()"
      ]
    },
    {
      "cell_type": "code",
      "execution_count": null,
      "metadata": {
        "id": "o3viR1lxKIHd"
      },
      "outputs": [],
      "source": [
        "df_dist_corr = df_dist[[\"is_fraud\", \"distance\"]].corr()"
      ]
    },
    {
      "cell_type": "code",
      "execution_count": null,
      "metadata": {
        "colab": {
          "base_uri": "https://localhost:8080/",
          "height": 112
        },
        "id": "vurPUmnsKUsI",
        "outputId": "e356b7ff-f27d-452b-81b5-51b390f2ae64"
      },
      "outputs": [],
      "source": [
        "df_dist_corr"
      ]
    },
    {
      "cell_type": "code",
      "execution_count": null,
      "metadata": {
        "colab": {
          "base_uri": "https://localhost:8080/"
        },
        "id": "rZgjTSIDKWvO",
        "outputId": "33a687be-d8c0-4b8b-d1a6-88a508ff4c01"
      },
      "outputs": [],
      "source": [
        "df_dist[\"category\"].unique()"
      ]
    },
    {
      "cell_type": "code",
      "execution_count": null,
      "metadata": {
        "id": "oauJUVYpbYhh"
      },
      "outputs": [],
      "source": [
        "df_dist_corr_by_category = df_dist.groupby(\"category\")[[\"is_fraud\", \"distance\"]].corr()"
      ]
    },
    {
      "cell_type": "code",
      "execution_count": null,
      "metadata": {
        "colab": {
          "base_uri": "https://localhost:8080/"
        },
        "id": "o30T7yrohFNA",
        "outputId": "9b89c2b3-0e2f-433f-f2da-1715f2d372dc"
      },
      "outputs": [],
      "source": [
        "df_dist.groupby('category')[['is_fraud','distance']].corr().unstack().iloc[:,1]"
      ]
    },
    {
      "cell_type": "code",
      "execution_count": null,
      "metadata": {
        "colab": {
          "base_uri": "https://localhost:8080/",
          "height": 958
        },
        "id": "xHOkWEstbiJd",
        "outputId": "f84f50cf-ab2f-46ec-a640-e36d134e153d"
      },
      "outputs": [],
      "source": [
        "df_dist_corr_by_category"
      ]
    },
    {
      "cell_type": "code",
      "execution_count": null,
      "metadata": {
        "id": "1rc8XKuXg7-f"
      },
      "outputs": [],
      "source": []
    },
    {
      "cell_type": "code",
      "execution_count": null,
      "metadata": {
        "id": "Dkylwt5BPyOD"
      },
      "outputs": [],
      "source": [
        "from dython.nominal import (identify_nominal_columns, associations)\n",
        "# import dython"
      ]
    },
    {
      "cell_type": "code",
      "execution_count": null,
      "metadata": {
        "colab": {
          "base_uri": "https://localhost:8080/"
        },
        "id": "BKqP4a_ZQzE9",
        "outputId": "0d0222e0-b65d-4191-c17a-f0c13a79d559"
      },
      "outputs": [],
      "source": [
        "categorical_features=identify_nominal_columns(df_dist)\n",
        "categorical_features"
      ]
    },
    {
      "cell_type": "code",
      "execution_count": null,
      "metadata": {
        "id": "UKNXWZURr0pO"
      },
      "outputs": [],
      "source": [
        "df_raw_factors[\"buyer_location\"] = df_raw_factors[[\"lat\", \"long\"]].apply(tuple, axis=1)\n",
        "df_raw_factors[\"merchant_location\"] = df_raw_factors[[\"merch_lat\", \"merch_long\"]].apply(tuple, axis=1)\n",
        "df_raw_factors[\"distance\"] = df_raw_factors.apply(distance, axis=1)\n"
      ]
    },
    {
      "cell_type": "code",
      "execution_count": null,
      "metadata": {
        "id": "QdvsIaeBstEH"
      },
      "outputs": [],
      "source": [
        "df_raw_factors.drop(columns=[\"buyer_location\", \"merchant_location\"], inplace=True)"
      ]
    },
    {
      "cell_type": "code",
      "execution_count": null,
      "metadata": {
        "colab": {
          "base_uri": "https://localhost:8080/",
          "height": 1000
        },
        "id": "s53rffUMYZQM",
        "outputId": "aae0a5cc-d382-4950-f7ac-4a4e5886f252"
      },
      "outputs": [],
      "source": [
        "associations(df_raw_factors, cmap='coolwarm', vmax=1.0, vmin=-1.0, fmt='.2f', annot=True, figsize=(10,10))"
      ]
    },
    {
      "cell_type": "code",
      "execution_count": null,
      "metadata": {
        "id": "-AzF8lKGrQi_"
      },
      "outputs": [],
      "source": []
    },
    {
      "cell_type": "code",
      "execution_count": null,
      "metadata": {},
      "outputs": [],
      "source": [
        "# To use Google geocoding api you must provide your API key\n",
        "# We've stored the API key in a conda environment variable \"google_geocode_api\""
      ]
    },
    {
      "cell_type": "code",
      "execution_count": null,
      "metadata": {},
      "outputs": [],
      "source": [
        "df_raw[[\"cc_num\",\"street\",\"city\", \"state\", \"zip\"]].nunique()"
      ]
    },
    {
      "cell_type": "code",
      "execution_count": null,
      "metadata": {},
      "outputs": [],
      "source": [
        "# for a given cc_num, how many unique addresses are there present, how many charges for a given address\n",
        "df_raw.groupby([\"cc_num\"]).agg()    \n",
        "\n",
        "resource_field_count = emp_res_access.loc[emp_res_access['prediction'] == 1].copy().groupby(\n",
        "    [\"resource_type\",\"resource_id\",field]\n",
        "    ).agg(col_name=(\"employee_id\",pd.Series.nunique)).reset_index()"
      ]
    },
    {
      "cell_type": "code",
      "execution_count": null,
      "metadata": {},
      "outputs": [],
      "source": [
        "df_raw.groupby([\"cc_num\",\"street\",\"city\",\"state\",\"zip\"]).size()"
      ]
    },
    {
      "cell_type": "code",
      "execution_count": null,
      "metadata": {},
      "outputs": [],
      "source": [
        "cc_address_count = (df_raw.street.astype(str)+df_raw.city.astype(str)+df_raw.state.astype(str)+df_raw.zip.astype(str)).groupby(df_raw.cc_num).nunique().reset_index(name=\"count\")\n"
      ]
    },
    {
      "cell_type": "code",
      "execution_count": null,
      "metadata": {},
      "outputs": [],
      "source": [
        "cc_address_count.loc[cc_address_count[\"count\"]>1]"
      ]
    },
    {
      "cell_type": "code",
      "execution_count": null,
      "metadata": {},
      "outputs": [],
      "source": []
    }
  ],
  "metadata": {
    "colab": {
      "collapsed_sections": [
        "gcysoqbxx1Fc"
      ],
      "provenance": [],
      "toc_visible": true
    },
    "kernelspec": {
      "display_name": "Python 3",
      "name": "python3"
    },
    "language_info": {
      "codemirror_mode": {
        "name": "ipython",
        "version": 3
      },
      "file_extension": ".py",
      "mimetype": "text/x-python",
      "name": "python",
      "nbconvert_exporter": "python",
      "pygments_lexer": "ipython3",
      "version": "3.11.3"
    },
    "widgets": {
      "application/vnd.jupyter.widget-state+json": {
        "03cc1c495c104ef1941305ad14006fb3": {
          "model_module": "@jupyter-widgets/controls",
          "model_module_version": "1.5.0",
          "model_name": "DescriptionStyleModel",
          "state": {
            "_model_module": "@jupyter-widgets/controls",
            "_model_module_version": "1.5.0",
            "_model_name": "DescriptionStyleModel",
            "_view_count": null,
            "_view_module": "@jupyter-widgets/base",
            "_view_module_version": "1.2.0",
            "_view_name": "StyleView",
            "description_width": ""
          }
        },
        "0564639af3584b4ba4549046f2bd8cd3": {
          "model_module": "@jupyter-widgets/controls",
          "model_module_version": "1.5.0",
          "model_name": "HBoxModel",
          "state": {
            "_dom_classes": [],
            "_model_module": "@jupyter-widgets/controls",
            "_model_module_version": "1.5.0",
            "_model_name": "HBoxModel",
            "_view_count": null,
            "_view_module": "@jupyter-widgets/controls",
            "_view_module_version": "1.5.0",
            "_view_name": "HBoxView",
            "box_style": "",
            "children": [
              "IPY_MODEL_8ddd681b5a5c4960be1ad2867bc7c961",
              "IPY_MODEL_4e0d2cdc0a124ded92e56ecca4af7703",
              "IPY_MODEL_ad424f0a30434d58b101e6d912636937"
            ],
            "layout": "IPY_MODEL_c3e993e47fe046d9b33bd720eac7231a"
          }
        },
        "1cee0aeee2e84845ae4de916ff71bc55": {
          "model_module": "@jupyter-widgets/controls",
          "model_module_version": "1.5.0",
          "model_name": "HBoxModel",
          "state": {
            "_dom_classes": [],
            "_model_module": "@jupyter-widgets/controls",
            "_model_module_version": "1.5.0",
            "_model_name": "HBoxModel",
            "_view_count": null,
            "_view_module": "@jupyter-widgets/controls",
            "_view_module_version": "1.5.0",
            "_view_name": "HBoxView",
            "box_style": "",
            "children": [
              "IPY_MODEL_e0af691a32bd4d7f8315a4773afe8efe",
              "IPY_MODEL_7cdba9ea00974a3a97908ffb7dd81e55",
              "IPY_MODEL_aaa383bd5ddc479db95f8118bcce828b"
            ],
            "layout": "IPY_MODEL_a0b1ee811d0049959602e4e57974d8c1"
          }
        },
        "28931d39ffc94dd6a71347857cac1bc2": {
          "model_module": "@jupyter-widgets/base",
          "model_module_version": "1.2.0",
          "model_name": "LayoutModel",
          "state": {
            "_model_module": "@jupyter-widgets/base",
            "_model_module_version": "1.2.0",
            "_model_name": "LayoutModel",
            "_view_count": null,
            "_view_module": "@jupyter-widgets/base",
            "_view_module_version": "1.2.0",
            "_view_name": "LayoutView",
            "align_content": null,
            "align_items": null,
            "align_self": null,
            "border": null,
            "bottom": null,
            "display": null,
            "flex": null,
            "flex_flow": null,
            "grid_area": null,
            "grid_auto_columns": null,
            "grid_auto_flow": null,
            "grid_auto_rows": null,
            "grid_column": null,
            "grid_gap": null,
            "grid_row": null,
            "grid_template_areas": null,
            "grid_template_columns": null,
            "grid_template_rows": null,
            "height": null,
            "justify_content": null,
            "justify_items": null,
            "left": null,
            "margin": null,
            "max_height": null,
            "max_width": null,
            "min_height": null,
            "min_width": null,
            "object_fit": null,
            "object_position": null,
            "order": null,
            "overflow": null,
            "overflow_x": null,
            "overflow_y": null,
            "padding": null,
            "right": null,
            "top": null,
            "visibility": null,
            "width": null
          }
        },
        "3c368cd6ae374ddebac5b7a5923e5877": {
          "model_module": "@jupyter-widgets/controls",
          "model_module_version": "1.5.0",
          "model_name": "DescriptionStyleModel",
          "state": {
            "_model_module": "@jupyter-widgets/controls",
            "_model_module_version": "1.5.0",
            "_model_name": "DescriptionStyleModel",
            "_view_count": null,
            "_view_module": "@jupyter-widgets/base",
            "_view_module_version": "1.2.0",
            "_view_name": "StyleView",
            "description_width": ""
          }
        },
        "41fd73ca98bc4d9eaabe831df14f5069": {
          "model_module": "@jupyter-widgets/controls",
          "model_module_version": "1.5.0",
          "model_name": "DescriptionStyleModel",
          "state": {
            "_model_module": "@jupyter-widgets/controls",
            "_model_module_version": "1.5.0",
            "_model_name": "DescriptionStyleModel",
            "_view_count": null,
            "_view_module": "@jupyter-widgets/base",
            "_view_module_version": "1.2.0",
            "_view_name": "StyleView",
            "description_width": ""
          }
        },
        "4bb5e686366a41408cb4e5e784d022e7": {
          "model_module": "@jupyter-widgets/base",
          "model_module_version": "1.2.0",
          "model_name": "LayoutModel",
          "state": {
            "_model_module": "@jupyter-widgets/base",
            "_model_module_version": "1.2.0",
            "_model_name": "LayoutModel",
            "_view_count": null,
            "_view_module": "@jupyter-widgets/base",
            "_view_module_version": "1.2.0",
            "_view_name": "LayoutView",
            "align_content": null,
            "align_items": null,
            "align_self": null,
            "border": null,
            "bottom": null,
            "display": null,
            "flex": null,
            "flex_flow": null,
            "grid_area": null,
            "grid_auto_columns": null,
            "grid_auto_flow": null,
            "grid_auto_rows": null,
            "grid_column": null,
            "grid_gap": null,
            "grid_row": null,
            "grid_template_areas": null,
            "grid_template_columns": null,
            "grid_template_rows": null,
            "height": null,
            "justify_content": null,
            "justify_items": null,
            "left": null,
            "margin": null,
            "max_height": null,
            "max_width": null,
            "min_height": null,
            "min_width": null,
            "object_fit": null,
            "object_position": null,
            "order": null,
            "overflow": null,
            "overflow_x": null,
            "overflow_y": null,
            "padding": null,
            "right": null,
            "top": null,
            "visibility": null,
            "width": null
          }
        },
        "4e0d2cdc0a124ded92e56ecca4af7703": {
          "model_module": "@jupyter-widgets/controls",
          "model_module_version": "1.5.0",
          "model_name": "FloatProgressModel",
          "state": {
            "_dom_classes": [],
            "_model_module": "@jupyter-widgets/controls",
            "_model_module_version": "1.5.0",
            "_model_name": "FloatProgressModel",
            "_view_count": null,
            "_view_module": "@jupyter-widgets/controls",
            "_view_module_version": "1.5.0",
            "_view_name": "ProgressView",
            "bar_style": "success",
            "description": "",
            "description_tooltip": null,
            "layout": "IPY_MODEL_4bb5e686366a41408cb4e5e784d022e7",
            "max": 5,
            "min": 0,
            "orientation": "horizontal",
            "style": "IPY_MODEL_bd04de2f057841beabad0ed9c77aa63f",
            "value": 5
          }
        },
        "592d36544fd148bc9f6503239998cfa3": {
          "model_module": "@jupyter-widgets/base",
          "model_module_version": "1.2.0",
          "model_name": "LayoutModel",
          "state": {
            "_model_module": "@jupyter-widgets/base",
            "_model_module_version": "1.2.0",
            "_model_name": "LayoutModel",
            "_view_count": null,
            "_view_module": "@jupyter-widgets/base",
            "_view_module_version": "1.2.0",
            "_view_name": "LayoutView",
            "align_content": null,
            "align_items": null,
            "align_self": null,
            "border": null,
            "bottom": null,
            "display": null,
            "flex": null,
            "flex_flow": null,
            "grid_area": null,
            "grid_auto_columns": null,
            "grid_auto_flow": null,
            "grid_auto_rows": null,
            "grid_column": null,
            "grid_gap": null,
            "grid_row": null,
            "grid_template_areas": null,
            "grid_template_columns": null,
            "grid_template_rows": null,
            "height": null,
            "justify_content": null,
            "justify_items": null,
            "left": null,
            "margin": null,
            "max_height": null,
            "max_width": null,
            "min_height": null,
            "min_width": null,
            "object_fit": null,
            "object_position": null,
            "order": null,
            "overflow": null,
            "overflow_x": null,
            "overflow_y": null,
            "padding": null,
            "right": null,
            "top": null,
            "visibility": null,
            "width": null
          }
        },
        "77e3f47bc2f6464faabc84e78a739c55": {
          "model_module": "@jupyter-widgets/controls",
          "model_module_version": "1.5.0",
          "model_name": "ProgressStyleModel",
          "state": {
            "_model_module": "@jupyter-widgets/controls",
            "_model_module_version": "1.5.0",
            "_model_name": "ProgressStyleModel",
            "_view_count": null,
            "_view_module": "@jupyter-widgets/base",
            "_view_module_version": "1.2.0",
            "_view_name": "StyleView",
            "bar_color": null,
            "description_width": ""
          }
        },
        "7cdba9ea00974a3a97908ffb7dd81e55": {
          "model_module": "@jupyter-widgets/controls",
          "model_module_version": "1.5.0",
          "model_name": "FloatProgressModel",
          "state": {
            "_dom_classes": [],
            "_model_module": "@jupyter-widgets/controls",
            "_model_module_version": "1.5.0",
            "_model_name": "FloatProgressModel",
            "_view_count": null,
            "_view_module": "@jupyter-widgets/controls",
            "_view_module_version": "1.5.0",
            "_view_name": "ProgressView",
            "bar_style": "danger",
            "description": "",
            "description_tooltip": null,
            "layout": "IPY_MODEL_9044488a4d9749a9961c574d4434cbe7",
            "max": 1,
            "min": 0,
            "orientation": "horizontal",
            "style": "IPY_MODEL_77e3f47bc2f6464faabc84e78a739c55",
            "value": 0
          }
        },
        "819e7ac92a324c529e48681be69dc507": {
          "model_module": "@jupyter-widgets/controls",
          "model_module_version": "1.5.0",
          "model_name": "DescriptionStyleModel",
          "state": {
            "_model_module": "@jupyter-widgets/controls",
            "_model_module_version": "1.5.0",
            "_model_name": "DescriptionStyleModel",
            "_view_count": null,
            "_view_module": "@jupyter-widgets/base",
            "_view_module_version": "1.2.0",
            "_view_name": "StyleView",
            "description_width": ""
          }
        },
        "8ddd681b5a5c4960be1ad2867bc7c961": {
          "model_module": "@jupyter-widgets/controls",
          "model_module_version": "1.5.0",
          "model_name": "HTMLModel",
          "state": {
            "_dom_classes": [],
            "_model_module": "@jupyter-widgets/controls",
            "_model_module_version": "1.5.0",
            "_model_name": "HTMLModel",
            "_view_count": null,
            "_view_module": "@jupyter-widgets/controls",
            "_view_module_version": "1.5.0",
            "_view_name": "HTMLView",
            "description": "",
            "description_tooltip": null,
            "layout": "IPY_MODEL_28931d39ffc94dd6a71347857cac1bc2",
            "placeholder": "​",
            "style": "IPY_MODEL_819e7ac92a324c529e48681be69dc507",
            "value": "Summarize dataset: 100%"
          }
        },
        "9044488a4d9749a9961c574d4434cbe7": {
          "model_module": "@jupyter-widgets/base",
          "model_module_version": "1.2.0",
          "model_name": "LayoutModel",
          "state": {
            "_model_module": "@jupyter-widgets/base",
            "_model_module_version": "1.2.0",
            "_model_name": "LayoutModel",
            "_view_count": null,
            "_view_module": "@jupyter-widgets/base",
            "_view_module_version": "1.2.0",
            "_view_name": "LayoutView",
            "align_content": null,
            "align_items": null,
            "align_self": null,
            "border": null,
            "bottom": null,
            "display": null,
            "flex": null,
            "flex_flow": null,
            "grid_area": null,
            "grid_auto_columns": null,
            "grid_auto_flow": null,
            "grid_auto_rows": null,
            "grid_column": null,
            "grid_gap": null,
            "grid_row": null,
            "grid_template_areas": null,
            "grid_template_columns": null,
            "grid_template_rows": null,
            "height": null,
            "justify_content": null,
            "justify_items": null,
            "left": null,
            "margin": null,
            "max_height": null,
            "max_width": null,
            "min_height": null,
            "min_width": null,
            "object_fit": null,
            "object_position": null,
            "order": null,
            "overflow": null,
            "overflow_x": null,
            "overflow_y": null,
            "padding": null,
            "right": null,
            "top": null,
            "visibility": null,
            "width": null
          }
        },
        "94588d84cbbd4903b64b51f2fb6551e1": {
          "model_module": "@jupyter-widgets/base",
          "model_module_version": "1.2.0",
          "model_name": "LayoutModel",
          "state": {
            "_model_module": "@jupyter-widgets/base",
            "_model_module_version": "1.2.0",
            "_model_name": "LayoutModel",
            "_view_count": null,
            "_view_module": "@jupyter-widgets/base",
            "_view_module_version": "1.2.0",
            "_view_name": "LayoutView",
            "align_content": null,
            "align_items": null,
            "align_self": null,
            "border": null,
            "bottom": null,
            "display": null,
            "flex": null,
            "flex_flow": null,
            "grid_area": null,
            "grid_auto_columns": null,
            "grid_auto_flow": null,
            "grid_auto_rows": null,
            "grid_column": null,
            "grid_gap": null,
            "grid_row": null,
            "grid_template_areas": null,
            "grid_template_columns": null,
            "grid_template_rows": null,
            "height": null,
            "justify_content": null,
            "justify_items": null,
            "left": null,
            "margin": null,
            "max_height": null,
            "max_width": null,
            "min_height": null,
            "min_width": null,
            "object_fit": null,
            "object_position": null,
            "order": null,
            "overflow": null,
            "overflow_x": null,
            "overflow_y": null,
            "padding": null,
            "right": null,
            "top": null,
            "visibility": null,
            "width": null
          }
        },
        "a0b1ee811d0049959602e4e57974d8c1": {
          "model_module": "@jupyter-widgets/base",
          "model_module_version": "1.2.0",
          "model_name": "LayoutModel",
          "state": {
            "_model_module": "@jupyter-widgets/base",
            "_model_module_version": "1.2.0",
            "_model_name": "LayoutModel",
            "_view_count": null,
            "_view_module": "@jupyter-widgets/base",
            "_view_module_version": "1.2.0",
            "_view_name": "LayoutView",
            "align_content": null,
            "align_items": null,
            "align_self": null,
            "border": null,
            "bottom": null,
            "display": null,
            "flex": null,
            "flex_flow": null,
            "grid_area": null,
            "grid_auto_columns": null,
            "grid_auto_flow": null,
            "grid_auto_rows": null,
            "grid_column": null,
            "grid_gap": null,
            "grid_row": null,
            "grid_template_areas": null,
            "grid_template_columns": null,
            "grid_template_rows": null,
            "height": null,
            "justify_content": null,
            "justify_items": null,
            "left": null,
            "margin": null,
            "max_height": null,
            "max_width": null,
            "min_height": null,
            "min_width": null,
            "object_fit": null,
            "object_position": null,
            "order": null,
            "overflow": null,
            "overflow_x": null,
            "overflow_y": null,
            "padding": null,
            "right": null,
            "top": null,
            "visibility": null,
            "width": null
          }
        },
        "aaa383bd5ddc479db95f8118bcce828b": {
          "model_module": "@jupyter-widgets/controls",
          "model_module_version": "1.5.0",
          "model_name": "HTMLModel",
          "state": {
            "_dom_classes": [],
            "_model_module": "@jupyter-widgets/controls",
            "_model_module_version": "1.5.0",
            "_model_name": "HTMLModel",
            "_view_count": null,
            "_view_module": "@jupyter-widgets/controls",
            "_view_module_version": "1.5.0",
            "_view_name": "HTMLView",
            "description": "",
            "description_tooltip": null,
            "layout": "IPY_MODEL_592d36544fd148bc9f6503239998cfa3",
            "placeholder": "​",
            "style": "IPY_MODEL_3c368cd6ae374ddebac5b7a5923e5877",
            "value": " 0/1 [00:01&lt;?, ?it/s]"
          }
        },
        "ad424f0a30434d58b101e6d912636937": {
          "model_module": "@jupyter-widgets/controls",
          "model_module_version": "1.5.0",
          "model_name": "HTMLModel",
          "state": {
            "_dom_classes": [],
            "_model_module": "@jupyter-widgets/controls",
            "_model_module_version": "1.5.0",
            "_model_name": "HTMLModel",
            "_view_count": null,
            "_view_module": "@jupyter-widgets/controls",
            "_view_module_version": "1.5.0",
            "_view_name": "HTMLView",
            "description": "",
            "description_tooltip": null,
            "layout": "IPY_MODEL_c78832464cdb41f191f7316d6bdd3e68",
            "placeholder": "​",
            "style": "IPY_MODEL_03cc1c495c104ef1941305ad14006fb3",
            "value": " 118/118 [02:32&lt;00:00,  1.12it/s, Completed]"
          }
        },
        "bd04de2f057841beabad0ed9c77aa63f": {
          "model_module": "@jupyter-widgets/controls",
          "model_module_version": "1.5.0",
          "model_name": "ProgressStyleModel",
          "state": {
            "_model_module": "@jupyter-widgets/controls",
            "_model_module_version": "1.5.0",
            "_model_name": "ProgressStyleModel",
            "_view_count": null,
            "_view_module": "@jupyter-widgets/base",
            "_view_module_version": "1.2.0",
            "_view_name": "StyleView",
            "bar_color": null,
            "description_width": ""
          }
        },
        "c3e993e47fe046d9b33bd720eac7231a": {
          "model_module": "@jupyter-widgets/base",
          "model_module_version": "1.2.0",
          "model_name": "LayoutModel",
          "state": {
            "_model_module": "@jupyter-widgets/base",
            "_model_module_version": "1.2.0",
            "_model_name": "LayoutModel",
            "_view_count": null,
            "_view_module": "@jupyter-widgets/base",
            "_view_module_version": "1.2.0",
            "_view_name": "LayoutView",
            "align_content": null,
            "align_items": null,
            "align_self": null,
            "border": null,
            "bottom": null,
            "display": null,
            "flex": null,
            "flex_flow": null,
            "grid_area": null,
            "grid_auto_columns": null,
            "grid_auto_flow": null,
            "grid_auto_rows": null,
            "grid_column": null,
            "grid_gap": null,
            "grid_row": null,
            "grid_template_areas": null,
            "grid_template_columns": null,
            "grid_template_rows": null,
            "height": null,
            "justify_content": null,
            "justify_items": null,
            "left": null,
            "margin": null,
            "max_height": null,
            "max_width": null,
            "min_height": null,
            "min_width": null,
            "object_fit": null,
            "object_position": null,
            "order": null,
            "overflow": null,
            "overflow_x": null,
            "overflow_y": null,
            "padding": null,
            "right": null,
            "top": null,
            "visibility": null,
            "width": null
          }
        },
        "c78832464cdb41f191f7316d6bdd3e68": {
          "model_module": "@jupyter-widgets/base",
          "model_module_version": "1.2.0",
          "model_name": "LayoutModel",
          "state": {
            "_model_module": "@jupyter-widgets/base",
            "_model_module_version": "1.2.0",
            "_model_name": "LayoutModel",
            "_view_count": null,
            "_view_module": "@jupyter-widgets/base",
            "_view_module_version": "1.2.0",
            "_view_name": "LayoutView",
            "align_content": null,
            "align_items": null,
            "align_self": null,
            "border": null,
            "bottom": null,
            "display": null,
            "flex": null,
            "flex_flow": null,
            "grid_area": null,
            "grid_auto_columns": null,
            "grid_auto_flow": null,
            "grid_auto_rows": null,
            "grid_column": null,
            "grid_gap": null,
            "grid_row": null,
            "grid_template_areas": null,
            "grid_template_columns": null,
            "grid_template_rows": null,
            "height": null,
            "justify_content": null,
            "justify_items": null,
            "left": null,
            "margin": null,
            "max_height": null,
            "max_width": null,
            "min_height": null,
            "min_width": null,
            "object_fit": null,
            "object_position": null,
            "order": null,
            "overflow": null,
            "overflow_x": null,
            "overflow_y": null,
            "padding": null,
            "right": null,
            "top": null,
            "visibility": null,
            "width": null
          }
        },
        "e0af691a32bd4d7f8315a4773afe8efe": {
          "model_module": "@jupyter-widgets/controls",
          "model_module_version": "1.5.0",
          "model_name": "HTMLModel",
          "state": {
            "_dom_classes": [],
            "_model_module": "@jupyter-widgets/controls",
            "_model_module_version": "1.5.0",
            "_model_name": "HTMLModel",
            "_view_count": null,
            "_view_module": "@jupyter-widgets/controls",
            "_view_module_version": "1.5.0",
            "_view_name": "HTMLView",
            "description": "",
            "description_tooltip": null,
            "layout": "IPY_MODEL_94588d84cbbd4903b64b51f2fb6551e1",
            "placeholder": "​",
            "style": "IPY_MODEL_41fd73ca98bc4d9eaabe831df14f5069",
            "value": "Generate report structure:   0%"
          }
        }
      }
    }
  },
  "nbformat": 4,
  "nbformat_minor": 0
}
